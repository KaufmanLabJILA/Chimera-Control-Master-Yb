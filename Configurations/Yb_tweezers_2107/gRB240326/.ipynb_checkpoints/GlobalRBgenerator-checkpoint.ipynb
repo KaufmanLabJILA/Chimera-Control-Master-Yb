{
 "cells": [
  {
   "cell_type": "markdown",
   "id": "9ee7b0ef",
   "metadata": {},
   "source": [
    "# Import"
   ]
  },
  {
   "cell_type": "code",
   "execution_count": 1,
   "id": "5116e891",
   "metadata": {},
   "outputs": [],
   "source": [
    "import numpy as np\n",
    "from scipy import linalg, optimize\n",
    "import scipy as sp\n",
    "from scipy import constants \n",
    "\n",
    "import matplotlib.pyplot as plt\n",
    "import matplotlib as mpl\n",
    "import pandas as pd\n",
    "import itertools\n",
    "\n",
    "import qutip as qt\n",
    "import time\n",
    "import random\n",
    "Qobj = qt.Qobj"
   ]
  },
  {
   "cell_type": "code",
   "execution_count": 2,
   "id": "a2b49a52",
   "metadata": {},
   "outputs": [
    {
     "name": "stdout",
     "output_type": "stream",
     "text": [
      "4.7.1\n"
     ]
    }
   ],
   "source": [
    "print(qt.__version__)"
   ]
  },
  {
   "cell_type": "markdown",
   "id": "e3e46405",
   "metadata": {},
   "source": [
    "# Constants"
   ]
  },
  {
   "cell_type": "code",
   "execution_count": 3,
   "id": "18a4e133",
   "metadata": {},
   "outputs": [],
   "source": [
    "uB = constants.value('Bohr magneton')/10000 #J G^-1 #Bhor magneton\n",
    "hbar = constants.hbar *1e6 #J.us #Planck const\n",
    "h = constants.h *1e6 #J.us #Planck const\n",
    "k = constants.k *1e6#J.us #Planck const\n",
    "c = constants.c *1e-6#m/us speed of light\n",
    "# epsilon_0 = constants.epsilon_0 #vacuum permitivity\n",
    "\n",
    "#Unit conversion\n",
    "JtoMHz = 1/h"
   ]
  },
  {
   "cell_type": "markdown",
   "id": "8086ce96",
   "metadata": {},
   "source": [
    "# Functions"
   ]
  },
  {
   "cell_type": "markdown",
   "id": "5d92c16a",
   "metadata": {},
   "source": [
    "## Fucntions for matrix operation"
   ]
  },
  {
   "cell_type": "code",
   "execution_count": 4,
   "id": "17ef8f63",
   "metadata": {
    "tags": []
   },
   "outputs": [],
   "source": [
    "# For matrix generation\n",
    "def Mop_element(A,i1,i2,N):\n",
    "    #define an element\n",
    "    M = np.zeros((N,N),dtype=complex)\n",
    "    M[i2,i1]=A\n",
    "    return M\n",
    "\n",
    "def Mop_cc(A,i1,i2,N):\n",
    "    # add hermit condjugate \n",
    "    return Element(A,i1,i2,N)+np.conjugate(Element(A,i1,i2,N).transpose())\n",
    "\n",
    "def Mop_plus1dim(A):\n",
    "    # plus 1 dimention\n",
    "    l=A.shape[0]\n",
    "    return np.block([[A,np.zeros((l,1))],[np.zeros((1,l)),0]])\n",
    "\n",
    "# For algebra between matrix\n",
    "def Malg_sqbra(A,B):\n",
    "    return A@B-B@A\n",
    "\n",
    "def Malg_lind(rho,C):\n",
    "    Cdag = np.conjugate(C.transpose())\n",
    "    return 1/2*(2*C@rho@Cdag-rho@Cdag@C-Cdag@C@rho)\n"
   ]
  },
  {
   "cell_type": "markdown",
   "id": "3583eccc",
   "metadata": {},
   "source": [
    "## Hamiltonian"
   ]
  },
  {
   "cell_type": "markdown",
   "id": "ef1d42a3",
   "metadata": {},
   "source": [
    "Only think about when the clock and Rydberg laser beam is resonant with the transition $|m_1>\\leftrightarrow|m_2>$ and $|m_1>\\leftrightarrow|r_1>$ respectively. Then, the energy after RWA is,\n",
    "$$\n",
    "H_\\mathrm{base} = \\Delta_m|m_2><m_2|+ g B|r_2><r_2|\n",
    "$$\n",
    "where, g is some factor deciding the splitting of $|r_1>$ and $|r_2>$ from Zeeman effect.\n",
    "\n",
    "The light and atom interaction part is written as,\n",
    "$$\n",
    "H_\\mathrm{light} = \\frac{\\Omega_m}{2}|m_2><m_1|+\\frac{\\Omega_r}{2}\\left(|r_1><m_1|+\\frac{1}{\\sqrt{3}}|r_2><m_2|\\right)+\\mathrm{c.c.}\n",
    "$$\n",
    "\n",
    "Therefore total single particle Hamiltonian is written as,\n",
    "$$\n",
    "H_\\mathrm{single} = H_\\mathrm{base}+H_\\mathrm{light}\n",
    "$$\n",
    "\n",
    "On the other hand, rydberg interaction hamiltonian for two atoms are written as,\n",
    "$$\n",
    "H_\\mathrm{int} = V\\left(|r_1r_1><r_1r_1|+|r_2r_1><r_2r_1|+|r_1r_2><r_1r_2|+|r_2r_2><r_2r_2|\\right)\n",
    "$$\n",
    "Here, I am assuming same interaction strength for all Rydberg states, which might not be physical.\n",
    "\n",
    "Using all the Hamiltonians defined so far, total system Hamiltonian is written as,\n",
    "$$\n",
    "H_\\mathrm{tot}= H_\\mathrm{single}\\otimes I+I\\otimes H_\\mathrm{single}+H_\\mathrm{int}\n",
    "$$"
   ]
  },
  {
   "cell_type": "markdown",
   "id": "0b1fc58d",
   "metadata": {},
   "source": [
    "following above note, construct Hamiltonian as Qobj\n",
    "for single atom basis order is defined as $|m_1>,|m_2>,|r_1>,|r_2>$ associated 0,1,2,3 as a element on vector"
   ]
  },
  {
   "cell_type": "code",
   "execution_count": 5,
   "id": "019e4e56",
   "metadata": {},
   "outputs": [],
   "source": [
    "N = 4\n",
    "def H_base(B,g,Delm,Gamma = 0):\n",
    "    H = Delm*Mop_element(1,1,1,N)+g*B*Mop_element(1,3,3,N)-1j*Gamma*Mop_element(1,2,2,N)-1j*Gamma*Mop_element(1,3,3,N)\n",
    "    return Qobj(H)\n",
    "\n",
    "def H_light(Om,Or):\n",
    "    Hhalf = Om/2*Mop_element(1,0,1,N)+Or/2*(Mop_element(1,0,2,N)+1/np.sqrt(3)*Mop_element(1,1,3,N))\n",
    "    H = Qobj(Hhalf) + Qobj(Hhalf).dag()\n",
    "    return H\n",
    "\n",
    "def H_single(Om,Or,B,g,Delm,Gamma=0):\n",
    "    return H_base(B,g,Delm,Gamma)+ H_light(Om,Or)\n",
    "\n",
    "def H_int(V):\n",
    "    H = V*(Mop_element(1,10,10,N**2)+Mop_element(1,11,11,N**2)+Mop_element(1,14,14,N**2)+Mop_element(1,15,15,N**2))\n",
    "    return Qobj(H, dims = [[4, 4], [4, 4]])\n",
    "\n",
    "def H_tot(Om,Or,B,g,Delm,V,Gamma=0):\n",
    "    H = qt.tensor(H_single(Om,Or,B,g,Delm,Gamma),qt.qeye(N))+qt.tensor(qt.qeye(N),H_single(Om,Or,B,g,Delm,Gamma)) + H_int(V)\n",
    "    return H"
   ]
  },
  {
   "cell_type": "code",
   "execution_count": 6,
   "id": "d53f4e89",
   "metadata": {},
   "outputs": [],
   "source": [
    "# lukin high fidelity paper's time optimal gate\n",
    "def H_lukin(t, args):\n",
    "    phi = args['A']*np.cos(args['omega']*t-args['phi0'])+args['delta0']*t\n",
    "    Or_complex = args['Or']*np.exp(-1j*phi)\n",
    "    return H_tot(0,Or_complex,args['B'],args['g'],args['Delm'],args['V'],args['Gamma'])"
   ]
  },
  {
   "cell_type": "markdown",
   "id": "ad4524f2",
   "metadata": {
    "tags": []
   },
   "source": [
    "## Solver functions"
   ]
  },
  {
   "cell_type": "code",
   "execution_count": 7,
   "id": "894dc85d",
   "metadata": {},
   "outputs": [],
   "source": [
    "def Solve_Unitary(t0 ,state0, args, steps =1,  Output=False, reverse = False):\n",
    "    #make phase pulse with steps\n",
    "    phase_pulse = np.transpose((args['phase'] * np.full((steps,len(args['phase'])),1))).flatten()\n",
    "    if reverse:\n",
    "        phase_pulse = np.flip(phase_pulse)\n",
    "    \n",
    "    Num_phase = len(args['phase'])*steps\n",
    "    t_tot = args['T']\n",
    "    \n",
    "    t_fin = t0+t_tot\n",
    "    dt = t_tot/Num_phase\n",
    "    times = np.linspace(t0,t_fin,Num_phase+1)\n",
    "    \n",
    "    state_old = state0\n",
    "    states = [state0]\n",
    "    for n in range(Num_phase):\n",
    "        phi = phase_pulse[n]\n",
    "        Or_complex = args['Or']*np.exp(-1j*phi)\n",
    "        if reverse:\n",
    "            state_new = (1j*dt*H_tot(args['Om'],Or_complex,args['B'],args['g'],args['Delm'],args['V'],args['Gamma'])).expm()*state_old\n",
    "        else:\n",
    "            state_new = (-1j*dt*H_tot(args['Om'],Or_complex,args['B'],args['g'],args['Delm'],args['V'],args['Gamma'])).expm()*state_old\n",
    "        states.append(state_new)\n",
    "        state_old = state_new\n",
    "    if reverse: \n",
    "        states = np.flip(states, axis = 0)\n",
    "\n",
    "    if Output:\n",
    "        return t_fin, states[-1], times+t0, states\n",
    "    else:\n",
    "        return t_fin, states[-1]"
   ]
  },
  {
   "cell_type": "markdown",
   "id": "2679a9fa",
   "metadata": {},
   "source": [
    "## Useful operators, observables"
   ]
  },
  {
   "cell_type": "code",
   "execution_count": 8,
   "id": "6ec3f797",
   "metadata": {},
   "outputs": [],
   "source": [
    "PopM1 = 1/2*(qt.tensor(qt.fock_dm(N, 0),qt.qeye(N))+qt.tensor(qt.qeye(N),qt.fock_dm(N, 0)))\n",
    "PopM2 = 1/2*(qt.tensor(qt.fock_dm(N, 1),qt.qeye(N))+qt.tensor(qt.qeye(N),qt.fock_dm(N, 1)))\n",
    "PopR1 = 1/2*(qt.tensor(qt.fock_dm(N, 2),qt.qeye(N))+qt.tensor(qt.qeye(N),qt.fock_dm(N, 2)))\n",
    "PopR2 = 1/2*(qt.tensor(qt.fock_dm(N, 3),qt.qeye(N))+qt.tensor(qt.qeye(N),qt.fock_dm(N, 3)))\n",
    "        \n",
    "ParityEven = qt.ket2dm(1/np.sqrt(2)*(qt.tensor(qt.basis(N,0),qt.basis(N,0))-qt.tensor(qt.basis(N,1),qt.basis(N,1))))+qt.ket2dm(1/np.sqrt(2)*(qt.tensor(qt.basis(N,0),qt.basis(N,0))+qt.tensor(qt.basis(N,1),qt.basis(N,1))))\n",
    "Bellstate = qt.ket2dm(1/np.sqrt(2)*(qt.tensor(qt.basis(N,0),qt.basis(N,0))+qt.tensor(qt.basis(N,1),qt.basis(N,1))))\n",
    "Bellstate_ket = 1/np.sqrt(2)*(qt.tensor(qt.basis(N,0),qt.basis(N,0))+qt.tensor(qt.basis(N,1),qt.basis(N,1)))\n",
    "\n",
    "Pop00 = qt.ket2dm(qt.tensor(qt.basis(N,0),qt.basis(N,0)))\n",
    "Pop11 = qt.ket2dm(qt.tensor(qt.basis(N,1),qt.basis(N,1)))\n",
    "Zop = 1/2*qt.tensor(qt.fock_dm(N,0)-qt.fock_dm(N,1),qt.qeye(N))+1/2*qt.tensor(qt.qeye(N),qt.fock_dm(N,0)-qt.fock_dm(N,1))"
   ]
  },
  {
   "cell_type": "markdown",
   "id": "6e7f108d",
   "metadata": {
    "tags": []
   },
   "source": [
    "## Simple tests for the functions above"
   ]
  },
  {
   "cell_type": "markdown",
   "id": "bb9cf66f",
   "metadata": {},
   "source": [
    "### Meta rabi"
   ]
  },
  {
   "cell_type": "code",
   "execution_count": 9,
   "id": "194d0431",
   "metadata": {},
   "outputs": [],
   "source": [
    "Om = 2*np.pi*2\n",
    "Delm = 2*np.pi*36e-3\n",
    "args = {\n",
    "'Om' : Om,\n",
    "'Delm' : Delm,\n",
    "'Or' : 0,\n",
    "'V'  : 0,\n",
    "'T': 5*2*np.pi/Om,\n",
    "'B': 0,\n",
    "'g': 0,\n",
    "'phase':np.zeros(100),\n",
    "'Gamma': 0}\n",
    "\n",
    "state0 = qt.tensor(qt.basis(N,0),qt.basis(N,0))\n",
    "t0 = 0 \n",
    "\n",
    "t_fin, state_fin, times, states =  Solve_Unitary(t0 ,state0,args,Output=True)"
   ]
  },
  {
   "cell_type": "code",
   "execution_count": 10,
   "id": "68586755",
   "metadata": {},
   "outputs": [
    {
     "data": {
      "text/plain": [
       "(0.0, 1.0)"
      ]
     },
     "execution_count": 10,
     "metadata": {},
     "output_type": "execute_result"
    },
    {
     "data": {
      "image/png": "[encoded data removed]",
      "text/plain": [
       "<Figure size 640x480 with 1 Axes>"
      ]
     },
     "metadata": {},
     "output_type": "display_data"
    }
   ],
   "source": [
    "plt.plot(times,qt.expect(PopM1,states),label='m1')\n",
    "plt.plot(times,qt.expect(PopM2,states),label='m2')\n",
    "\n",
    "plt.legend()\n",
    "plt.ylabel('Population')\n",
    "plt.xlabel('time [us] ')\n",
    "plt.ylim(0.0,1)"
   ]
  },
  {
   "cell_type": "markdown",
   "id": "6d82d39b",
   "metadata": {},
   "source": [
    "### Rydberg blockade rabi for m1"
   ]
  },
  {
   "cell_type": "code",
   "execution_count": 11,
   "id": "8cfecb7e",
   "metadata": {},
   "outputs": [],
   "source": [
    "Or = 2*np.pi*5\n",
    "args = {\n",
    "'Om' : 0,\n",
    "'Delm' : 0,\n",
    "'Or' : Or,\n",
    "'V'  : 2*np.pi*200,\n",
    "'B': 0,\n",
    "'g': 0,\n",
    "'T': 5*2*np.pi/Or,\n",
    "'phase':np.zeros(100),\n",
    "'Gamma': 1/44}\n",
    "\n",
    "state0 = qt.tensor(qt.basis(N,0),qt.basis(N,0))\n",
    "t0 = 0 \n",
    "\n",
    "t_fin, state_fin, times, states =  Solve_Unitary(t0 ,state0, args,Output = True)"
   ]
  },
  {
   "cell_type": "code",
   "execution_count": 12,
   "id": "f07358a5",
   "metadata": {},
   "outputs": [
    {
     "data": {
      "text/plain": [
       "(0.0, 1.0)"
      ]
     },
     "execution_count": 12,
     "metadata": {},
     "output_type": "execute_result"
    },
    {
     "data": {
      "image/png": "[encoded data removed]",
      "text/plain": [
       "<Figure size 640x480 with 1 Axes>"
      ]
     },
     "metadata": {},
     "output_type": "display_data"
    }
   ],
   "source": [
    "plt.plot(times,qt.expect(PopM1,states),label='m1')\n",
    "plt.plot(times,qt.expect(PopR1,states),label='rydebrg')\n",
    "plt.plot(times,qt.expect(ParityEven,states),label='doublon')\n",
    "\n",
    "plt.legend()\n",
    "plt.ylabel('Population')\n",
    "plt.xlabel('time [us] ')\n",
    "plt.ylim(0.0,1)"
   ]
  },
  {
   "cell_type": "markdown",
   "id": "66fa3fff",
   "metadata": {},
   "source": [
    "### Rydberg blockade rabi for m2"
   ]
  },
  {
   "cell_type": "code",
   "execution_count": 13,
   "id": "e2fbdbc5",
   "metadata": {},
   "outputs": [],
   "source": [
    "Or = 2*np.pi*5\n",
    "args = {\n",
    "'Om' : 0,\n",
    "'Delm' : 0,\n",
    "'Or' : Or,\n",
    "'V'  : 2*np.pi*200,\n",
    "'B': 0,\n",
    "'g': 0,\n",
    "'T': 5*2*np.pi/Or,\n",
    "'phase':np.zeros(100),\n",
    "'Gamma': 1/44}\n",
    "\n",
    "state0 = qt.tensor(qt.basis(N,1),qt.basis(N,1))\n",
    "t0 = 0 \n",
    "\n",
    "t_fin, state_fin, times, states =  Solve_Unitary(t0 ,state0, args,Output = True)"
   ]
  },
  {
   "cell_type": "code",
   "execution_count": 14,
   "id": "890b194e",
   "metadata": {},
   "outputs": [
    {
     "data": {
      "text/plain": [
       "(0.0, 1.0)"
      ]
     },
     "execution_count": 14,
     "metadata": {},
     "output_type": "execute_result"
    },
    {
     "data": {
      "image/png": "[encoded data removed]",
      "text/plain": [
       "<Figure size 640x480 with 1 Axes>"
      ]
     },
     "metadata": {},
     "output_type": "display_data"
    }
   ],
   "source": [
    "plt.plot(times,qt.expect(PopM2,states),label='m1')\n",
    "plt.plot(times,qt.expect(PopR2,states),label='rydebrg')\n",
    "plt.plot(times,qt.expect(ParityEven,states),label='doublon')\n",
    "\n",
    "plt.legend()\n",
    "plt.ylabel('Population')\n",
    "plt.xlabel('time [us] ')\n",
    "plt.ylim(0.0,1)"
   ]
  },
  {
   "cell_type": "markdown",
   "id": "9359490b",
   "metadata": {},
   "source": [
    "### time optimal gate"
   ]
  },
  {
   "cell_type": "markdown",
   "id": "1fc8194f",
   "metadata": {},
   "source": [
    "The unitary evolution solver is 100 times faster than generic one"
   ]
  },
  {
   "cell_type": "code",
   "execution_count": 15,
   "id": "18e8f156",
   "metadata": {},
   "outputs": [
    {
     "data": {
      "text/plain": [
       "[<matplotlib.lines.Line2D at 0x26b59379b80>]"
      ]
     },
     "execution_count": 15,
     "metadata": {},
     "output_type": "execute_result"
    },
    {
     "data": {
      "image/png": "[encoded data removed]",
      "text/plain": [
       "<Figure size 640x480 with 1 Axes>"
      ]
     },
     "metadata": {},
     "output_type": "display_data"
    }
   ],
   "source": [
    "# parameter setting\n",
    "Or = 2*np.pi*3\n",
    "lukinTO = {\n",
    "'Or' : Or,\n",
    "'Delm' : Delm,\n",
    "'V'  : 2*np.pi*200,\n",
    "'A' : 2*np.pi*0.1122,\n",
    "'omega'  :1.0431*Or,\n",
    "'phi0'  : -0.7318,\n",
    "'delta0'  :0*Or,\n",
    "'T': 1.215*2*np.pi/Or}\n",
    "\n",
    "times_CZ = np.linspace(0,lukinTO['T'],37)\n",
    "phase_CZ = lukinTO['A']*np.cos(lukinTO['omega']*times_CZ-lukinTO['phi0'])+lukinTO['delta0']*times_CZ\n",
    "\n",
    "plt.plot(phase_CZ)"
   ]
  },
  {
   "cell_type": "code",
   "execution_count": 16,
   "id": "3b100044",
   "metadata": {},
   "outputs": [],
   "source": [
    "UseSesolve = False #when you want to test the case of using sesolve, make it TRUE. That will take like 30sec but would be more accurate"
   ]
  },
  {
   "cell_type": "code",
   "execution_count": 17,
   "id": "3ba6c91c",
   "metadata": {},
   "outputs": [],
   "source": [
    "# pi/2 puslse\n",
    "Om = 2*np.pi*2\n",
    "Delm = 2*np.pi*36e-3\n",
    "DelmProve = 2*np.pi*30e-3\n",
    "args = {\n",
    "'Om' : Om,\n",
    "'Delm' : Delm,\n",
    "'Or' : 0,\n",
    "'B': 32,#Gauss\n",
    "'g': 2*np.pi*1.8664159914763607,\n",
    "'phase'  :phase_CZ,\n",
    "'V'  : 2*np.pi*200,\n",
    "'T': np.pi/2/Om,\n",
    "'Gamma': 1/44}\n",
    "\n",
    "t0 = 0\n",
    "state0 = qt.tensor(qt.basis(N,0),qt.basis(N,0))\n",
    "\n",
    "t1, state1 =  Solve_Unitary(t0 ,state0, args, Output=False)\n",
    "# wait?\n",
    "args = {\n",
    "'Om' : 0,\n",
    "'Delm' : Delm,\n",
    "'Or' : 0,\n",
    "'B': 32,#Gauss\n",
    "'g': 2*np.pi*1.8664159914763607,\n",
    "'phase'  :phase_CZ,\n",
    "'V'  : 2*np.pi*200,\n",
    "'T': 1,\n",
    "'Gamma': 1/44}\n",
    "t1, state1 =  Solve_Unitary(t1 ,state1, args, Output=False)\n",
    "\n",
    "# cz gate\n",
    "Or = 2*np.pi*1\n",
    "args = {\n",
    "'Om' : 0,\n",
    "'Delm' : DelmProve,\n",
    "'Or' : Or,\n",
    "'B': 32,#Gauss\n",
    "'g': 2*np.pi*1.8664159914763607,\n",
    "'phase'  :phase_CZ,\n",
    "'V'  : 2*np.pi*200,\n",
    "'T': 1.215*2*np.pi/Or,\n",
    "'Gamma': 1/44}\n",
    "t2, state2 =  Solve_Unitary(t1 ,state1, args, Output=False)\n",
    "\n",
    "# wait\n",
    "args = {\n",
    "'Om' : 0,\n",
    "'Delm' : Delm,\n",
    "'Or' : 0,\n",
    "'B': 32,#Gauss\n",
    "'g': 2*np.pi*1.8664159914763607,\n",
    "'phase'  :phase_CZ,\n",
    "'V'  : 2*np.pi*200,\n",
    "'T': 2*np.pi/Delm,\n",
    "'Gamma': 1/44}\n",
    "t3, state3,ts3,states3 =  Solve_Unitary(t2 ,state2, args, Output=True)\n",
    "\n",
    "#pi/4 pulse\n",
    "Om = 2*np.pi*2\n",
    "Delm = 2*np.pi*36e-3\n",
    "args = {\n",
    "'Om' : Om,\n",
    "'Delm' : Delm,\n",
    "'Or' : 0,\n",
    "'B': 32,#Gauss\n",
    "'g': 2*np.pi*1.8664159914763607,\n",
    "'phase'  :phase_CZ,\n",
    "'V'  : 2*np.pi*200,\n",
    "'T': np.pi/4/Om,\n",
    "'Gamma': 1/44}\n",
    "States4 = []\n",
    "for t3, state3 in zip(ts3,states3):\n",
    "    t4, state4 =  Solve_Unitary(t3 ,state3, args, Output=False)\n",
    "    States4.append(state4)\n",
    "\n",
    "imax = np.argmax(qt.expect(ParityEven,States4))\n",
    "t3 = ts3[imax]\n",
    "state3 = states3[imax]"
   ]
  },
  {
   "cell_type": "code",
   "execution_count": 18,
   "id": "09e3495f",
   "metadata": {},
   "outputs": [
    {
     "data": {
      "text/plain": [
       "(0.0, 1.0)"
      ]
     },
     "execution_count": 18,
     "metadata": {},
     "output_type": "execute_result"
    },
    {
     "data": {
      "image/png": "[encoded data removed]",
      "text/plain": [
       "<Figure size 640x480 with 1 Axes>"
      ]
     },
     "metadata": {},
     "output_type": "display_data"
    }
   ],
   "source": [
    "plt.plot(ts3,qt.expect(ParityEven,States4),label='Parity even')\n",
    "plt.plot(ts3,qt.expect(Pop00,States4),label='00')\n",
    "plt.plot(ts3,qt.expect(Pop11,States4),label='11')\n",
    "plt.title('pi/4 phase sweep')\n",
    "plt.legend()\n",
    "plt.ylim(0,1)"
   ]
  },
  {
   "cell_type": "code",
   "execution_count": 19,
   "id": "e9952bc6",
   "metadata": {},
   "outputs": [],
   "source": [
    "#pi/4 pulse\n",
    "Om = 2*np.pi*2\n",
    "Delm = 2*np.pi*36e-3\n",
    "args = {\n",
    "'Om' : Om,\n",
    "'Delm' : Delm,\n",
    "'Or' : 0,\n",
    "'B': 32,#Gauss\n",
    "'g': 2*np.pi*1.8664159914763607,\n",
    "'phase'  :phase_CZ,\n",
    "'V'  : 2*np.pi*200,\n",
    "'T': np.pi/4/Om,\n",
    "'Gamma': 1/44}\n",
    "States4 = []\n",
    "\n",
    "t4, state4 =  Solve_Unitary(t3 ,state3, args, Output=False)\n",
    "\n",
    "# wait\n",
    "args = {\n",
    "'Om' : 0,\n",
    "'Delm' : Delm,\n",
    "'Or' : 0,\n",
    "'B': 32,#Gauss\n",
    "'g': 2*np.pi*1.8664159914763607,\n",
    "'phase'  :phase_CZ,\n",
    "'V'  : 2*np.pi*200,\n",
    "'T': 2*np.pi/Delm,\n",
    "'Gamma': 1/44}\n",
    "t5, state5,ts5,states5 =  Solve_Unitary(t4 ,state4, args, Output=True)\n",
    "\n",
    "#pi/4 pulse\n",
    "Om = 2*np.pi*2\n",
    "Delm = 2*np.pi*36e-3\n",
    "args = {\n",
    "'Om' : Om,\n",
    "'Delm' : Delm,\n",
    "'Or' : 0,\n",
    "'B': 32,#Gauss\n",
    "'g': 2*np.pi*1.8664159914763607,\n",
    "'phase'  :phase_CZ,\n",
    "'V'  : 2*np.pi*200,\n",
    "'T': np.pi/2/Om,\n",
    "'Gamma': 1/44}\n",
    "States6 = []\n",
    "for t5, state5 in zip(ts5,states5):\n",
    "    t6, state6 =  Solve_Unitary(t5 ,state5, args, Output=False)\n",
    "    States6.append(state6)\n",
    "\n",
    "imax = np.argmax(qt.expect(ParityEven,States6))\n",
    "t5 = ts5[imax]\n",
    "state5 = states5[imax]"
   ]
  },
  {
   "cell_type": "code",
   "execution_count": 20,
   "id": "6ead19ef",
   "metadata": {},
   "outputs": [
    {
     "data": {
      "text/plain": [
       "(0.0, 1.0)"
      ]
     },
     "execution_count": 20,
     "metadata": {},
     "output_type": "execute_result"
    },
    {
     "data": {
      "image/png": "[encoded data removed]",
      "text/plain": [
       "<Figure size 640x480 with 1 Axes>"
      ]
     },
     "metadata": {},
     "output_type": "display_data"
    }
   ],
   "source": [
    "plt.plot(ts5,qt.expect(ParityEven,States6),label='Parity even')\n",
    "plt.plot(ts5,qt.expect(Pop00,States6),label='00')\n",
    "plt.plot(ts5,qt.expect(Pop11,States6),label='11')\n",
    "plt.title('parity')\n",
    "plt.legend()\n",
    "plt.ylim(0,1)"
   ]
  },
  {
   "cell_type": "markdown",
   "id": "3d4ec5f7",
   "metadata": {},
   "source": [
    "# High level functions"
   ]
  },
  {
   "cell_type": "code",
   "execution_count": 21,
   "id": "c3ee30f3",
   "metadata": {},
   "outputs": [],
   "source": [
    "#Meta x rotation\n",
    "def MetaXsim(rotangle,tini,stateini,Output = False):\n",
    "    Om = 2*np.pi*3\n",
    "    Delm = 2*np.pi*36e-3\n",
    "    args = {\n",
    "        'Om' : Om,\n",
    "        'Delm' : Delm,\n",
    "        'Or' : 0,\n",
    "        'B': 32,#Gauss\n",
    "        'g': 2*np.pi*1.8664159914763607,\n",
    "        'phase'  :phase_CZ,\n",
    "        'V'  : 2*np.pi*200,\n",
    "        'T': rotangle/Om,\n",
    "        'Gamma': 1/44}\n",
    "\n",
    "    if Output:\n",
    "        tfin, statefin,tfins, statefins  =  Solve_Unitary(tini ,stateini, args, Output=True)\n",
    "        return tfin, statefin ,tfins, statefins\n",
    "    else:\n",
    "        tfin, statefin =  Solve_Unitary(tini ,stateini, args, Output=False)\n",
    "        return tfin, statefin\n",
    "    \n",
    "\n",
    "    \n",
    "#Meta z rotation\n",
    "def MetaZsim(rotangle,tini,stateini,Output = False):\n",
    "    Delm = 2*np.pi*36e-3\n",
    "    args = {\n",
    "        'Om' : 0,\n",
    "        'Delm' : Delm,\n",
    "        'Or' : 0,\n",
    "        'B': 32,#Gauss\n",
    "        'g': 2*np.pi*1.8664159914763607,\n",
    "        'phase'  :phase_CZ,\n",
    "        'V'  : 2*np.pi*200,\n",
    "        'T': rotangle/Delm,\n",
    "        'Gamma': 1/44}\n",
    "    if Output:\n",
    "        tfin, statefin,tfins, statefins  =  Solve_Unitary(tini ,stateini, args, Output=True)\n",
    "        return tfin, statefin ,tfins, statefins\n",
    "    else:\n",
    "        tfin, statefin =  Solve_Unitary(tini ,stateini, args, Output=False)\n",
    "        return tfin, statefin\n",
    "\n",
    "def MetaXandZandXsim(rotangleX1,rotangleZ,rotangleX2,tini,stateini):\n",
    "    Om = 2*np.pi*3\n",
    "    Delm = 2*np.pi*36e-3\n",
    "    args = {\n",
    "        'Om' : Om,\n",
    "        'Delm' : Delm,\n",
    "        'Or' : 0,\n",
    "        'B': 32,#Gauss\n",
    "        'g': 2*np.pi*1.8664159914763607,\n",
    "        'phase'  :phase_CZ,\n",
    "        'V'  : 2*np.pi*200,\n",
    "        'T': rotangleX1/Om,\n",
    "        'Gamma': 1/44}\n",
    "\n",
    "    t1, state1 =  Solve_Unitary(tini ,stateini, args, Output=False)\n",
    "    Delm = 2*np.pi*36e-3\n",
    "    args = {\n",
    "        'Om' : 0,\n",
    "        'Delm' : Delm,\n",
    "        'Or' : 0,\n",
    "        'B': 32,#Gauss\n",
    "        'g': 2*np.pi*1.8664159914763607,\n",
    "        'phase'  :phase_CZ,\n",
    "        'V'  : 2*np.pi*200,\n",
    "        'T': rotangleZ/Delm,\n",
    "        'Gamma': 1/44}\n",
    "    t1, state1 =  Solve_Unitary(t1 ,state1, args, Output=False)\n",
    "    \n",
    "    Om = 2*np.pi*3\n",
    "    Delm = 2*np.pi*36e-3\n",
    "    args = {\n",
    "        'Om' : Om,\n",
    "        'Delm' : Delm,\n",
    "        'Or' : 0,\n",
    "        'B': 32,#Gauss\n",
    "        'g': 2*np.pi*1.8664159914763607,\n",
    "        'phase'  :phase_CZ,\n",
    "        'V'  : 2*np.pi*200,\n",
    "        'T': rotangleX2/Om,\n",
    "        'Gamma': 1/44}\n",
    "\n",
    "    t1, state1 =  Solve_Unitary(t1, state1, args, Output=False)\n",
    "    return t1, state1\n",
    "\n",
    "def MetaZandXandZsim(rotangleZ1,rotangleX,rotangleZ2,tini,stateini):\n",
    "    Delm = 2*np.pi*36e-3\n",
    "    args = {\n",
    "        'Om' : 0,\n",
    "        'Delm' : Delm,\n",
    "        'Or' : 0,\n",
    "        'B': 32,#Gauss\n",
    "        'g': 2*np.pi*1.8664159914763607,\n",
    "        'phase'  :phase_CZ,\n",
    "        'V'  : 2*np.pi*200,\n",
    "        'T': rotangleZ1/Delm,\n",
    "        'Gamma': 1/44}\n",
    "    t1, state1 =  Solve_Unitary(tini,stateini, args, Output=False)\n",
    "    \n",
    "    Om = 2*np.pi*3\n",
    "    Delm = 2*np.pi*36e-3\n",
    "    args = {\n",
    "        'Om' : Om,\n",
    "        'Delm' : Delm,\n",
    "        'Or' : 0,\n",
    "        'B': 32,#Gauss\n",
    "        'g': 2*np.pi*1.8664159914763607,\n",
    "        'phase'  :phase_CZ,\n",
    "        'V'  : 2*np.pi*200,\n",
    "        'T': rotangleX/Om,\n",
    "        'Gamma': 1/44}\n",
    "\n",
    "    t1, state1 =  Solve_Unitary(t1 ,state1, args, Output=False)\n",
    "    Delm = 2*np.pi*36e-3\n",
    "    args = {\n",
    "        'Om' : 0,\n",
    "        'Delm' : Delm,\n",
    "        'Or' : 0,\n",
    "        'B': 32,#Gauss\n",
    "        'g': 2*np.pi*1.8664159914763607,\n",
    "        'phase'  :phase_CZ,\n",
    "        'V'  : 2*np.pi*200,\n",
    "        'T': rotangleZ2/Delm,\n",
    "        'Gamma': 1/44}\n",
    "    t1, state1 =  Solve_Unitary(t1 ,state1, args, Output=False)\n",
    "\n",
    "    return t1, state1\n",
    "    \n",
    "\n",
    "#CZ gate\n",
    "def LukinCZsim( tini,stateini ,argsGate,Output = False):\n",
    "\n",
    "    times_CZ = np.linspace(0,argsGate['T'],int(argsGate['T']/6.536e-3))\n",
    "    phase_CZ = argsGate['A']*np.cos(argsGate['omega']*times_CZ-argsGate['phi0'])+argsGate['delta0']*times_CZ\n",
    "    \n",
    "    args = {\n",
    "        'Om' : 0,\n",
    "        'Delm' : Delm,\n",
    "        'Or' : argsGate['Or'],\n",
    "        'B': 32,#Gauss\n",
    "        'g': 2*np.pi*1.8664159914763607,\n",
    "        'phase'  :phase_CZ,\n",
    "        'V'  : argsGate['V'],\n",
    "        'T': argsGate['T'],\n",
    "        'Gamma': argsGate['Gamma']}\n",
    "    \n",
    "    if Output:\n",
    "        tfin, statefin,tfins, statefins  =  Solve_Unitary(tini ,stateini, args, Output=True)\n",
    "        return tfin, statefin ,tfins, statefins\n",
    "    else:\n",
    "        tfin, statefin =  Solve_Unitary(tini ,stateini, args, Output=False)\n",
    "        return tfin, statefin\n",
    "    "
   ]
  },
  {
   "cell_type": "code",
   "execution_count": 22,
   "id": "0831b6b7",
   "metadata": {},
   "outputs": [],
   "source": [
    "def ChoicesReal(gateNum,tini,stateini):\n",
    "    pulseSeq = RandomCliffords[gateNum]\n",
    "    \n",
    "    return  MetaZandXandZsim(pulseSeq[0]*np.pi/2,pulseSeq[1]*np.pi/2,pulseSeq[2]*np.pi/2,tini,stateini)\n",
    "    \n"
   ]
  },
  {
   "cell_type": "code",
   "execution_count": 23,
   "id": "99ad5140",
   "metadata": {},
   "outputs": [],
   "source": [
    "def CZpiCZsim(tini,stateini,argsGate):\n",
    "    #CZ\n",
    "    t1, state1 = LukinCZsim(tini,stateini,lukinTO)\n",
    "    # pi pulse\n",
    "    t1, state1 = MetaXsim(np.pi,t1, state1)\n",
    "    #CZ\n",
    "    t1, state1 = LukinCZsim(t1,state1,lukinTO)\n",
    "    return t1, state1"
   ]
  },
  {
   "cell_type": "markdown",
   "id": "2cab6e56",
   "metadata": {},
   "source": [
    "# include dummy single qubit gates"
   ]
  },
  {
   "cell_type": "code",
   "execution_count": 6,
   "id": "8e0071c0",
   "metadata": {},
   "outputs": [],
   "source": [
    "totalRep = 10"
   ]
  },
  {
   "cell_type": "code",
   "execution_count": 7,
   "id": "c7fe0cbc",
   "metadata": {},
   "outputs": [],
   "source": [
    "x = qt.sigmax().sqrtm()\n",
    "y = qt.sigmay().sqrtm()\n",
    "z = qt.sigmaz().sqrtm()\n",
    "\n",
    "# the number n for n*pi/2 rotation Z1-X1-Z2 the order is from Saffman paper\n",
    "RandomCliffords = [[0,0,0],[3,1,1],[0,2,2],[3,3,1],[0,2,0],[1,1,1],[2,0,0],[1,3,1],[0,1,2],[0,3,0],[1,3,0],[3,3,0],[0,3,2],[3,1,0],[0,1,0],[1,1,0],[0,3,3],[0,1,3],[0,2,3],[3,0,0],[0,3,1],[1,0,0],[0,2,1],[0,1,1]]\n",
    "NumChoices = np.arange(len(RandomCliffords))\n",
    "CliffordList = []\n",
    "\n",
    "for i in range(len(RandomCliffords)):\n",
    "    pulseSeq = RandomCliffords[i]\n",
    "    CliffordList.append(z**pulseSeq[2]*x**pulseSeq[1]*z**pulseSeq[0])"
   ]
  },
  {
   "cell_type": "code",
   "execution_count": 8,
   "id": "ab8befd5",
   "metadata": {},
   "outputs": [],
   "source": [
    "# Generate random matrices\n",
    "def GRBGate2(RepNum,totalRep=6):\n",
    "    GateNum = []\n",
    "    find = False\n",
    "    Unitary = qt.qeye(2)\n",
    "    for i in range(RepNum):\n",
    "        num = random.choice(NumChoices)\n",
    "        GateNum.append(num)\n",
    "        \n",
    "        Unitary = CliffordList[num]*Unitary\n",
    "        Unitary = z**2*x**2*Unitary #CZpiCZ\n",
    "    \n",
    "    for i in range(totalRep-RepNum):\n",
    "        num = random.choice(NumChoices)\n",
    "        GateNum.append(num)\n",
    "        \n",
    "        Unitary = CliffordList[num]*Unitary\n",
    "        Unitary = x**2*Unitary #pi pulse\n",
    "        \n",
    "    for i in range(len(CliffordList)):\n",
    "        if (CliffordList[i] == Unitary.dag()):\n",
    "            GateNum.append(i)\n",
    "            find = True\n",
    "            break\n",
    "        elif (CliffordList[i] == -Unitary.dag()):\n",
    "            GateNum.append(i)\n",
    "            find = True\n",
    "            break\n",
    "        elif (CliffordList[i] == 1j*Unitary.dag()):\n",
    "            GateNum.append(i)\n",
    "            find = True\n",
    "            break\n",
    "        elif (CliffordList[i] == -1j*Unitary.dag()):\n",
    "            GateNum.append(i)\n",
    "            find = True\n",
    "            break\n",
    "    \n",
    "    if find:\n",
    "        return GateNum\n",
    "    else:\n",
    "        print('error no unitary found')\n",
    "        print(Unitary)\n"
   ]
  },
  {
   "cell_type": "markdown",
   "id": "4aaa4a31",
   "metadata": {},
   "source": [
    "## Generation of GRB sequence with 10 instances upto 20CZ"
   ]
  },
  {
   "cell_type": "code",
   "execution_count": 9,
   "id": "adb5b2c4",
   "metadata": {},
   "outputs": [
    {
     "data": {
      "text/plain": [
       "array([ 0,  2,  4,  6,  8, 10])"
      ]
     },
     "execution_count": 9,
     "metadata": {},
     "output_type": "execute_result"
    }
   ],
   "source": [
    "np.arange(0,12,2)"
   ]
  },
  {
   "cell_type": "code",
   "execution_count": 10,
   "id": "dbb24c3d",
   "metadata": {},
   "outputs": [],
   "source": [
    "gatelists = []\n",
    "for RepNum in range(0,12,2):\n",
    "    sequences = []\n",
    "    for i in range(10):\n",
    "        sequences.append(GRBGate2(RepNum,totalRep))\n",
    "    gatelists.append(sequences)"
   ]
  },
  {
   "cell_type": "code",
   "execution_count": 11,
   "id": "9caf7d13",
   "metadata": {},
   "outputs": [
    {
     "data": {
      "text/plain": [
       "[[[8, 4, 21, 19, 7, 20, 16, 11, 16, 4, 10],\n",
       "  [19, 8, 12, 17, 4, 20, 6, 2, 9, 2, 4],\n",
       "  [22, 7, 11, 3, 5, 14, 16, 16, 8, 3, 19],\n",
       "  [19, 13, 9, 0, 22, 21, 0, 1, 21, 19, 1],\n",
       "  [10, 22, 16, 11, 19, 21, 9, 14, 10, 2, 21],\n",
       "  [4, 14, 18, 9, 11, 6, 4, 7, 21, 22, 10],\n",
       "  [19, 3, 12, 6, 8, 16, 12, 5, 15, 1, 5],\n",
       "  [22, 11, 23, 3, 6, 15, 19, 16, 16, 16, 19],\n",
       "  [5, 6, 21, 7, 0, 10, 6, 16, 1, 13, 15],\n",
       "  [8, 23, 0, 18, 8, 7, 18, 1, 11, 18, 1]],\n",
       " [[21, 16, 0, 22, 17, 11, 0, 23, 20, 20, 20],\n",
       "  [10, 12, 22, 3, 21, 15, 16, 18, 14, 17, 23],\n",
       "  [15, 16, 1, 10, 11, 7, 17, 16, 20, 11, 15],\n",
       "  [14, 22, 22, 5, 16, 19, 5, 6, 1, 19, 6],\n",
       "  [3, 16, 6, 17, 1, 19, 13, 3, 22, 22, 4],\n",
       "  [14, 22, 15, 22, 9, 20, 9, 17, 9, 18, 5],\n",
       "  [7, 7, 4, 18, 5, 13, 16, 23, 22, 5, 6],\n",
       "  [0, 11, 18, 6, 4, 13, 8, 1, 9, 6, 6],\n",
       "  [10, 20, 11, 4, 17, 18, 23, 13, 22, 1, 3],\n",
       "  [14, 21, 23, 19, 15, 3, 10, 9, 0, 16, 21]],\n",
       " [[1, 18, 23, 21, 14, 4, 10, 19, 4, 15, 5],\n",
       "  [23, 12, 6, 7, 9, 1, 16, 22, 7, 12, 1],\n",
       "  [14, 17, 17, 6, 14, 16, 10, 16, 0, 19, 3],\n",
       "  [0, 20, 2, 9, 16, 17, 12, 2, 4, 14, 18],\n",
       "  [19, 1, 4, 10, 3, 3, 0, 3, 20, 21, 10],\n",
       "  [5, 13, 15, 14, 12, 4, 4, 14, 1, 2, 1],\n",
       "  [16, 10, 7, 4, 20, 18, 9, 10, 17, 12, 11],\n",
       "  [17, 23, 3, 20, 14, 15, 21, 17, 3, 9, 3],\n",
       "  [6, 12, 1, 17, 3, 14, 8, 23, 17, 19, 0],\n",
       "  [21, 8, 8, 1, 5, 20, 23, 13, 2, 9, 13]],\n",
       " [[17, 19, 0, 7, 0, 23, 13, 18, 12, 22, 8],\n",
       "  [15, 12, 1, 8, 14, 16, 23, 20, 14, 6, 7],\n",
       "  [6, 7, 15, 21, 14, 20, 4, 18, 19, 21, 0],\n",
       "  [9, 3, 6, 2, 22, 17, 13, 0, 19, 6, 16],\n",
       "  [8, 8, 5, 8, 2, 18, 0, 20, 18, 5, 5],\n",
       "  [11, 6, 15, 4, 9, 18, 17, 16, 21, 7, 23],\n",
       "  [1, 6, 13, 11, 13, 4, 17, 1, 19, 0, 5],\n",
       "  [2, 14, 5, 11, 11, 14, 14, 11, 18, 18, 17],\n",
       "  [23, 4, 11, 13, 3, 14, 8, 23, 12, 9, 22],\n",
       "  [18, 11, 20, 10, 2, 3, 15, 13, 2, 14, 9]],\n",
       " [[20, 20, 18, 13, 0, 17, 11, 14, 18, 23, 12],\n",
       "  [21, 6, 23, 22, 2, 12, 7, 20, 18, 18, 23],\n",
       "  [1, 21, 1, 4, 17, 4, 2, 21, 11, 15, 11],\n",
       "  [9, 9, 8, 6, 19, 22, 15, 1, 19, 21, 6],\n",
       "  [23, 12, 2, 16, 15, 8, 4, 3, 12, 11, 11],\n",
       "  [6, 14, 1, 9, 23, 18, 23, 12, 10, 19, 16],\n",
       "  [15, 12, 12, 16, 14, 23, 16, 9, 0, 0, 11],\n",
       "  [4, 2, 5, 7, 2, 9, 9, 4, 13, 16, 2],\n",
       "  [22, 13, 23, 3, 15, 0, 13, 12, 17, 10, 21],\n",
       "  [21, 15, 1, 23, 19, 23, 2, 8, 13, 15, 16]],\n",
       " [[8, 17, 21, 5, 1, 12, 1, 11, 3, 17, 5],\n",
       "  [21, 0, 11, 14, 1, 21, 13, 13, 8, 5, 23],\n",
       "  [8, 7, 18, 23, 1, 2, 17, 1, 19, 10, 11],\n",
       "  [23, 6, 1, 0, 6, 21, 9, 12, 22, 10, 8],\n",
       "  [5, 4, 7, 14, 15, 13, 9, 21, 14, 23, 17],\n",
       "  [0, 10, 8, 12, 7, 23, 7, 4, 19, 8, 0],\n",
       "  [20, 6, 12, 17, 0, 11, 2, 23, 8, 16, 15],\n",
       "  [1, 14, 1, 5, 14, 0, 7, 11, 9, 20, 7],\n",
       "  [7, 23, 17, 15, 4, 10, 6, 3, 1, 17, 14],\n",
       "  [22, 15, 3, 4, 2, 10, 3, 1, 22, 2, 14]]]"
      ]
     },
     "execution_count": 11,
     "metadata": {},
     "output_type": "execute_result"
    }
   ],
   "source": [
    "gatelists"
   ]
  },
  {
   "cell_type": "markdown",
   "id": "cbb8817c",
   "metadata": {},
   "source": [
    "### Hard code gate lists intentionally so that not easily be deleted info"
   ]
  },
  {
   "cell_type": "code",
   "execution_count": 12,
   "id": "cb686576",
   "metadata": {},
   "outputs": [],
   "source": [
    "gatelists =[[[ 4, 12, 23, 18,  5,  0,  3, 22,  9,  6, 16],\n",
    "        [10, 15,  3,  7,  0, 18,  5,  9,  6, 16,  7],\n",
    "        [ 2,  8, 16, 20, 17, 13,  1, 20,  7,  8, 17],\n",
    "        [ 7,  5, 17, 11, 21,  6, 17, 19,  6, 15, 11],\n",
    "        [21,  3,  5, 11, 23, 16, 18,  1,  2,  3, 17],\n",
    "        [23, 11, 19,  6, 12,  2, 18,  3,  4, 19, 22],\n",
    "        [13,  6, 11, 16,  3, 15, 12, 19,  6, 19, 10],\n",
    "        [ 0, 21, 23, 15,  7,  8,  0,  8, 20, 10, 11],\n",
    "        [19, 15, 16,  8, 10,  8,  9, 11, 20,  4, 11],\n",
    "        [11,  6, 10,  7,  4,  9, 13,  3,  0,  2, 22]],\n",
    "[[21, 10, 15,  0, 14, 20, 18,  5, 10, 21,  7],\n",
    "        [ 7, 10, 12, 22, 15, 23,  3, 20, 16,  8, 19],\n",
    "        [11,  5,  9, 12, 20, 19, 15, 11, 12, 14, 13],\n",
    "        [13,  2,  1,  7, 19, 14, 16, 10,  0, 22,  8],\n",
    "        [ 5, 15, 20,  2,  5,  1, 23,  0,  2, 15,  1],\n",
    "        [ 1,  7, 11, 21,  0,  1,  3,  4, 12, 11,  0],\n",
    "        [22,  8,  1, 20,  7,  0, 18,  8,  4, 10, 17],\n",
    "        [18, 15,  8, 19, 15, 13,  1,  1, 20,  1, 16],\n",
    "        [13, 13, 14,  4,  1, 18,  1,  5,  6,  4, 21],\n",
    "        [18, 21,  1,  5,  3, 22, 14,  7, 12,  0,  7]],\n",
    "[[13, 10, 23, 16,  9, 15,  4, 15,  3,  7, 22],\n",
    "        [22,  8, 16, 19, 22,  9, 13,  2, 22,  3,  9],\n",
    "        [22, 15,  1,  4, 14,  7, 15,  8, 10, 20,  8],\n",
    "        [ 2, 11, 15, 20, 16, 14, 18,  8,  4, 10, 19],\n",
    "        [ 8, 18, 11,  6, 16, 15,  7, 19, 19, 23, 12],\n",
    "        [ 3, 15, 12,  5, 21, 20, 16, 20,  4,  8,  1],\n",
    "        [17,  3, 13, 17, 14,  5,  7,  4, 13, 23, 17],\n",
    "        [10,  8, 14,  0, 19, 21, 19,  7,  2,  8, 14],\n",
    "        [12, 12, 17, 12, 17, 13, 15, 23,  0, 11, 18],\n",
    "        [ 3, 14,  8, 12,  7, 10, 13, 15, 16,  2,  3]],\n",
    "[[ 6, 14, 18, 22, 22, 19, 11, 11, 18, 18, 18],\n",
    "        [23, 18,  9,  4,  9, 23, 12,  1, 19,  5, 18],\n",
    "        [ 4,  8,  7, 23, 17,  7, 13, 20,  4, 15, 14],\n",
    "        [16, 20, 12, 16,  7, 16,  1, 16, 15, 14, 17],\n",
    "        [15, 17,  6,  0, 19,  2, 12, 15,  3,  4, 22],\n",
    "        [14, 14, 21, 21,  7, 12, 20,  2, 13, 16, 17],\n",
    "        [ 1, 15, 17,  3, 12,  6,  6, 12,  4, 17, 11],\n",
    "        [ 8,  4,  2, 15,  9,  8, 16, 22,  9, 13, 19],\n",
    "        [20, 23, 21, 19,  7,  2, 23,  1,  7,  4, 18],\n",
    "        [20, 17, 13,  9, 20,  5,  3, 19, 17,  8, 19]],\n",
    "[[16, 16,  6, 14, 21,  1, 21, 14,  6, 18,  0],\n",
    "        [ 1,  9, 12,  2, 20, 14, 14, 19, 10,  5,  7],\n",
    "        [13,  2,  8, 17, 21, 10,  4,  4, 19, 20, 21],\n",
    "        [20, 11, 19,  5,  5,  9, 16, 15,  9,  7, 15],\n",
    "        [14, 10, 10, 16,  7, 14, 17, 21,  3, 13, 19],\n",
    "        [18,  8, 14, 17, 15,  6, 13,  6, 22,  0, 10],\n",
    "        [10, 20,  0, 10,  0, 17,  7, 20, 22,  4, 15],\n",
    "        [23,  7,  9, 22, 12, 15, 11, 10,  3,  6, 22],\n",
    "        [18, 20,  7, 11, 13, 13, 10, 18,  2,  3,  2],\n",
    "        [ 9,  9,  3, 16, 19,  2,  7, 21, 11,  1, 12]],\n",
    "[[20, 22,  2, 23, 17,  6, 15, 15, 10,  2,  1],\n",
    "        [ 9, 21, 22, 11,  1,  2, 23,  9,  4,  9, 13],\n",
    "        [11, 22, 14, 21, 13, 19, 13, 22, 14, 10, 23],\n",
    "        [ 5,  7,  0,  2,  1, 12, 19,  9,  1, 14, 11],\n",
    "        [ 5,  3, 19, 13, 14, 17,  5,  2,  0, 15, 14],\n",
    "        [ 6,  1,  5,  7, 23, 18, 12,  3, 22,  2, 21],\n",
    "        [ 5, 19,  4, 19,  6,  7, 18,  8, 14,  8, 16],\n",
    "        [11, 16,  2, 23, 20,  8, 19, 16,  8, 13, 19],\n",
    "        [ 2, 22, 22, 19, 16, 23,  0, 21,  2,  1, 19],\n",
    "        [11,  8, 18,  5, 14,  5,  7, 14, 23, 10,  7]]]\n"
   ]
  },
  {
   "cell_type": "markdown",
   "id": "90a403f6",
   "metadata": {},
   "source": [
    "### generate gate list"
   ]
  },
  {
   "cell_type": "code",
   "execution_count": 13,
   "id": "9619b061",
   "metadata": {},
   "outputs": [],
   "source": [
    "gatelistnames = []\n",
    "for RepNum, gatelistRep in enumerate(gatelists):\n",
    "    gatelist_rep = []\n",
    "    for gatelist in gatelistRep:\n",
    "        gatelist_ind = []\n",
    "        gatelist_new = []\n",
    "        for gateNum in range(RepNum):\n",
    "                gate = RandomCliffords[gateNum]\n",
    "                gatelist_new.append('z^{:.0f}'.format(gate[0])) \n",
    "                gatelist_new.append('x^{:.0f}'.format(gate[1])) \n",
    "                gatelist_new.append('z^{:.0f}'.format(gate[2])) \n",
    "\n",
    "                gatelist_new.append('CZ')\n",
    "                gatelist_new.append('x^2')\n",
    "                gatelist_new.append('CZ')\n",
    "        for gateNum in range(RepNum,totalRep):\n",
    "                gate = RandomCliffords[gateNum]\n",
    "                gatelist_new.append('z^{:.0f}'.format(gate[0])) \n",
    "                gatelist_new.append('x^{:.0f}'.format(gate[1])) \n",
    "                gatelist_new.append('z^{:.0f}'.format(gate[2])) \n",
    "\n",
    "                gatelist_new.append('x^2')\n",
    "        #final 1Q gate to bring back to initial state\n",
    "        gate = RandomCliffords[gatelist[-1]]\n",
    "        gatelist_new.append('z^{:.0f}'.format(gate[0])) \n",
    "        gatelist_new.append('x^{:.0f}'.format(gate[1])) \n",
    "        gatelist_new.append('z^{:.0f}'.format(gate[2])) \n",
    "        gatelist_ind.append(\"\".join(gatelist_new))\n",
    "        gatelist_rep.append(gatelist_ind)\n",
    "    gatelistnames.append(gatelist_rep)\n",
    "    "
   ]
  },
  {
   "cell_type": "code",
   "execution_count": 14,
   "id": "6abae23c",
   "metadata": {},
   "outputs": [
    {
     "name": "stdout",
     "output_type": "stream",
     "text": [
      "[[['z^0x^0z^0x^2z^3x^1z^1x^2z^0x^2z^2x^2z^3x^3z^1x^2z^0x^2z^0x^2z^1x^1z^1x^2z^2x^0z^0x^2z^1x^3z^1x^2z^0x^1z^2x^2z^0x^3z^0x^2z^0x^3z^3'], ['z^0x^0z^0x^2z^3x^1z^1x^2z^0x^2z^2x^2z^3x^3z^1x^2z^0x^2z^0x^2z^1x^1z^1x^2z^2x^0z^0x^2z^1x^3z^1x^2z^0x^1z^2x^2z^0x^3z^0x^2z^1x^3z^1'], ['z^0x^0z^0x^2z^3x^1z^1x^2z^0x^2z^2x^2z^3x^3z^1x^2z^0x^2z^0x^2z^1x^1z^1x^2z^2x^0z^0x^2z^1x^3z^1x^2z^0x^1z^2x^2z^0x^3z^0x^2z^0x^1z^3'], ['z^0x^0z^0x^2z^3x^1z^1x^2z^0x^2z^2x^2z^3x^3z^1x^2z^0x^2z^0x^2z^1x^1z^1x^2z^2x^0z^0x^2z^1x^3z^1x^2z^0x^1z^2x^2z^0x^3z^0x^2z^3x^3z^0'], ['z^0x^0z^0x^2z^3x^1z^1x^2z^0x^2z^2x^2z^3x^3z^1x^2z^0x^2z^0x^2z^1x^1z^1x^2z^2x^0z^0x^2z^1x^3z^1x^2z^0x^1z^2x^2z^0x^3z^0x^2z^0x^1z^3'], ['z^0x^0z^0x^2z^3x^1z^1x^2z^0x^2z^2x^2z^3x^3z^1x^2z^0x^2z^0x^2z^1x^1z^1x^2z^2x^0z^0x^2z^1x^3z^1x^2z^0x^1z^2x^2z^0x^3z^0x^2z^0x^2z^1'], ['z^0x^0z^0x^2z^3x^1z^1x^2z^0x^2z^2x^2z^3x^3z^1x^2z^0x^2z^0x^2z^1x^1z^1x^2z^2x^0z^0x^2z^1x^3z^1x^2z^0x^1z^2x^2z^0x^3z^0x^2z^1x^3z^0'], ['z^0x^0z^0x^2z^3x^1z^1x^2z^0x^2z^2x^2z^3x^3z^1x^2z^0x^2z^0x^2z^1x^1z^1x^2z^2x^0z^0x^2z^1x^3z^1x^2z^0x^1z^2x^2z^0x^3z^0x^2z^3x^3z^0'], ['z^0x^0z^0x^2z^3x^1z^1x^2z^0x^2z^2x^2z^3x^3z^1x^2z^0x^2z^0x^2z^1x^1z^1x^2z^2x^0z^0x^2z^1x^3z^1x^2z^0x^1z^2x^2z^0x^3z^0x^2z^3x^3z^0'], ['z^0x^0z^0x^2z^3x^1z^1x^2z^0x^2z^2x^2z^3x^3z^1x^2z^0x^2z^0x^2z^1x^1z^1x^2z^2x^0z^0x^2z^1x^3z^1x^2z^0x^1z^2x^2z^0x^3z^0x^2z^0x^2z^1']], [['z^0x^0z^0CZx^2CZz^3x^1z^1x^2z^0x^2z^2x^2z^3x^3z^1x^2z^0x^2z^0x^2z^1x^1z^1x^2z^2x^0z^0x^2z^1x^3z^1x^2z^0x^1z^2x^2z^0x^3z^0x^2z^1x^3z^1'], ['z^0x^0z^0CZx^2CZz^3x^1z^1x^2z^0x^2z^2x^2z^3x^3z^1x^2z^0x^2z^0x^2z^1x^1z^1x^2z^2x^0z^0x^2z^1x^3z^1x^2z^0x^1z^2x^2z^0x^3z^0x^2z^3x^0z^0'], ['z^0x^0z^0CZx^2CZz^3x^1z^1x^2z^0x^2z^2x^2z^3x^3z^1x^2z^0x^2z^0x^2z^1x^1z^1x^2z^2x^0z^0x^2z^1x^3z^1x^2z^0x^1z^2x^2z^0x^3z^0x^2z^3x^1z^0'], ['z^0x^0z^0CZx^2CZz^3x^1z^1x^2z^0x^2z^2x^2z^3x^3z^1x^2z^0x^2z^0x^2z^1x^1z^1x^2z^2x^0z^0x^2z^1x^3z^1x^2z^0x^1z^2x^2z^0x^3z^0x^2z^0x^1z^2'], ['z^0x^0z^0CZx^2CZz^3x^1z^1x^2z^0x^2z^2x^2z^3x^3z^1x^2z^0x^2z^0x^2z^1x^1z^1x^2z^2x^0z^0x^2z^1x^3z^1x^2z^0x^1z^2x^2z^0x^3z^0x^2z^3x^1z^1'], ['z^0x^0z^0CZx^2CZz^3x^1z^1x^2z^0x^2z^2x^2z^3x^3z^1x^2z^0x^2z^0x^2z^1x^1z^1x^2z^2x^0z^0x^2z^1x^3z^1x^2z^0x^1z^2x^2z^0x^3z^0x^2z^0x^0z^0'], ['z^0x^0z^0CZx^2CZz^3x^1z^1x^2z^0x^2z^2x^2z^3x^3z^1x^2z^0x^2z^0x^2z^1x^1z^1x^2z^2x^0z^0x^2z^1x^3z^1x^2z^0x^1z^2x^2z^0x^3z^0x^2z^0x^1z^3'], ['z^0x^0z^0CZx^2CZz^3x^1z^1x^2z^0x^2z^2x^2z^3x^3z^1x^2z^0x^2z^0x^2z^1x^1z^1x^2z^2x^0z^0x^2z^1x^3z^1x^2z^0x^1z^2x^2z^0x^3z^0x^2z^0x^3z^3'], ['z^0x^0z^0CZx^2CZz^3x^1z^1x^2z^0x^2z^2x^2z^3x^3z^1x^2z^0x^2z^0x^2z^1x^1z^1x^2z^2x^0z^0x^2z^1x^3z^1x^2z^0x^1z^2x^2z^0x^3z^0x^2z^1x^0z^0'], ['z^0x^0z^0CZx^2CZz^3x^1z^1x^2z^0x^2z^2x^2z^3x^3z^1x^2z^0x^2z^0x^2z^1x^1z^1x^2z^2x^0z^0x^2z^1x^3z^1x^2z^0x^1z^2x^2z^0x^3z^0x^2z^1x^3z^1']], [['z^0x^0z^0CZx^2CZz^3x^1z^1CZx^2CZz^0x^2z^2x^2z^3x^3z^1x^2z^0x^2z^0x^2z^1x^1z^1x^2z^2x^0z^0x^2z^1x^3z^1x^2z^0x^1z^2x^2z^0x^3z^0x^2z^0x^2z^1'], ['z^0x^0z^0CZx^2CZz^3x^1z^1CZx^2CZz^0x^2z^2x^2z^3x^3z^1x^2z^0x^2z^0x^2z^1x^1z^1x^2z^2x^0z^0x^2z^1x^3z^1x^2z^0x^1z^2x^2z^0x^3z^0x^2z^0x^3z^0'], ['z^0x^0z^0CZx^2CZz^3x^1z^1CZx^2CZz^0x^2z^2x^2z^3x^3z^1x^2z^0x^2z^0x^2z^1x^1z^1x^2z^2x^0z^0x^2z^1x^3z^1x^2z^0x^1z^2x^2z^0x^3z^0x^2z^0x^1z^2'], ['z^0x^0z^0CZx^2CZz^3x^1z^1CZx^2CZz^0x^2z^2x^2z^3x^3z^1x^2z^0x^2z^0x^2z^1x^1z^1x^2z^2x^0z^0x^2z^1x^3z^1x^2z^0x^1z^2x^2z^0x^3z^0x^2z^3x^0z^0'], ['z^0x^0z^0CZx^2CZz^3x^1z^1CZx^2CZz^0x^2z^2x^2z^3x^3z^1x^2z^0x^2z^0x^2z^1x^1z^1x^2z^2x^0z^0x^2z^1x^3z^1x^2z^0x^1z^2x^2z^0x^3z^0x^2z^0x^3z^2'], ['z^0x^0z^0CZx^2CZz^3x^1z^1CZx^2CZz^0x^2z^2x^2z^3x^3z^1x^2z^0x^2z^0x^2z^1x^1z^1x^2z^2x^0z^0x^2z^1x^3z^1x^2z^0x^1z^2x^2z^0x^3z^0x^2z^3x^1z^1'], ['z^0x^0z^0CZx^2CZz^3x^1z^1CZx^2CZz^0x^2z^2x^2z^3x^3z^1x^2z^0x^2z^0x^2z^1x^1z^1x^2z^2x^0z^0x^2z^1x^3z^1x^2z^0x^1z^2x^2z^0x^3z^0x^2z^0x^1z^3'], ['z^0x^0z^0CZx^2CZz^3x^1z^1CZx^2CZz^0x^2z^2x^2z^3x^3z^1x^2z^0x^2z^0x^2z^1x^1z^1x^2z^2x^0z^0x^2z^1x^3z^1x^2z^0x^1z^2x^2z^0x^3z^0x^2z^0x^1z^0'], ['z^0x^0z^0CZx^2CZz^3x^1z^1CZx^2CZz^0x^2z^2x^2z^3x^3z^1x^2z^0x^2z^0x^2z^1x^1z^1x^2z^2x^0z^0x^2z^1x^3z^1x^2z^0x^1z^2x^2z^0x^3z^0x^2z^0x^2z^3'], ['z^0x^0z^0CZx^2CZz^3x^1z^1CZx^2CZz^0x^2z^2x^2z^3x^3z^1x^2z^0x^2z^0x^2z^1x^1z^1x^2z^2x^0z^0x^2z^1x^3z^1x^2z^0x^1z^2x^2z^0x^3z^0x^2z^3x^3z^1']], [['z^0x^0z^0CZx^2CZz^3x^1z^1CZx^2CZz^0x^2z^2CZx^2CZz^3x^3z^1x^2z^0x^2z^0x^2z^1x^1z^1x^2z^2x^0z^0x^2z^1x^3z^1x^2z^0x^1z^2x^2z^0x^3z^0x^2z^0x^2z^3'], ['z^0x^0z^0CZx^2CZz^3x^1z^1CZx^2CZz^0x^2z^2CZx^2CZz^3x^3z^1x^2z^0x^2z^0x^2z^1x^1z^1x^2z^2x^0z^0x^2z^1x^3z^1x^2z^0x^1z^2x^2z^0x^3z^0x^2z^0x^2z^3'], ['z^0x^0z^0CZx^2CZz^3x^1z^1CZx^2CZz^0x^2z^2CZx^2CZz^3x^3z^1x^2z^0x^2z^0x^2z^1x^1z^1x^2z^2x^0z^0x^2z^1x^3z^1x^2z^0x^1z^2x^2z^0x^3z^0x^2z^0x^1z^0'], ['z^0x^0z^0CZx^2CZz^3x^1z^1CZx^2CZz^0x^2z^2CZx^2CZz^3x^3z^1x^2z^0x^2z^0x^2z^1x^1z^1x^2z^2x^0z^0x^2z^1x^3z^1x^2z^0x^1z^2x^2z^0x^3z^0x^2z^0x^1z^3'], ['z^0x^0z^0CZx^2CZz^3x^1z^1CZx^2CZz^0x^2z^2CZx^2CZz^3x^3z^1x^2z^0x^2z^0x^2z^1x^1z^1x^2z^2x^0z^0x^2z^1x^3z^1x^2z^0x^1z^2x^2z^0x^3z^0x^2z^0x^2z^1'], ['z^0x^0z^0CZx^2CZz^3x^1z^1CZx^2CZz^0x^2z^2CZx^2CZz^3x^3z^1x^2z^0x^2z^0x^2z^1x^1z^1x^2z^2x^0z^0x^2z^1x^3z^1x^2z^0x^1z^2x^2z^0x^3z^0x^2z^0x^1z^3'], ['z^0x^0z^0CZx^2CZz^3x^1z^1CZx^2CZz^0x^2z^2CZx^2CZz^3x^3z^1x^2z^0x^2z^0x^2z^1x^1z^1x^2z^2x^0z^0x^2z^1x^3z^1x^2z^0x^1z^2x^2z^0x^3z^0x^2z^3x^3z^0'], ['z^0x^0z^0CZx^2CZz^3x^1z^1CZx^2CZz^0x^2z^2CZx^2CZz^3x^3z^1x^2z^0x^2z^0x^2z^1x^1z^1x^2z^2x^0z^0x^2z^1x^3z^1x^2z^0x^1z^2x^2z^0x^3z^0x^2z^3x^0z^0'], ['z^0x^0z^0CZx^2CZz^3x^1z^1CZx^2CZz^0x^2z^2CZx^2CZz^3x^3z^1x^2z^0x^2z^0x^2z^1x^1z^1x^2z^2x^0z^0x^2z^1x^3z^1x^2z^0x^1z^2x^2z^0x^3z^0x^2z^0x^2z^3'], ['z^0x^0z^0CZx^2CZz^3x^1z^1CZx^2CZz^0x^2z^2CZx^2CZz^3x^3z^1x^2z^0x^2z^0x^2z^1x^1z^1x^2z^2x^0z^0x^2z^1x^3z^1x^2z^0x^1z^2x^2z^0x^3z^0x^2z^3x^0z^0']], [['z^0x^0z^0CZx^2CZz^3x^1z^1CZx^2CZz^0x^2z^2CZx^2CZz^3x^3z^1CZx^2CZz^0x^2z^0x^2z^1x^1z^1x^2z^2x^0z^0x^2z^1x^3z^1x^2z^0x^1z^2x^2z^0x^3z^0x^2z^0x^0z^0'], ['z^0x^0z^0CZx^2CZz^3x^1z^1CZx^2CZz^0x^2z^2CZx^2CZz^3x^3z^1CZx^2CZz^0x^2z^0x^2z^1x^1z^1x^2z^2x^0z^0x^2z^1x^3z^1x^2z^0x^1z^2x^2z^0x^3z^0x^2z^1x^3z^1'], ['z^0x^0z^0CZx^2CZz^3x^1z^1CZx^2CZz^0x^2z^2CZx^2CZz^3x^3z^1CZx^2CZz^0x^2z^0x^2z^1x^1z^1x^2z^2x^0z^0x^2z^1x^3z^1x^2z^0x^1z^2x^2z^0x^3z^0x^2z^1x^0z^0'], ['z^0x^0z^0CZx^2CZz^3x^1z^1CZx^2CZz^0x^2z^2CZx^2CZz^3x^3z^1CZx^2CZz^0x^2z^0x^2z^1x^1z^1x^2z^2x^0z^0x^2z^1x^3z^1x^2z^0x^1z^2x^2z^0x^3z^0x^2z^1x^1z^0'], ['z^0x^0z^0CZx^2CZz^3x^1z^1CZx^2CZz^0x^2z^2CZx^2CZz^3x^3z^1CZx^2CZz^0x^2z^0x^2z^1x^1z^1x^2z^2x^0z^0x^2z^1x^3z^1x^2z^0x^1z^2x^2z^0x^3z^0x^2z^3x^0z^0'], ['z^0x^0z^0CZx^2CZz^3x^1z^1CZx^2CZz^0x^2z^2CZx^2CZz^3x^3z^1CZx^2CZz^0x^2z^0x^2z^1x^1z^1x^2z^2x^0z^0x^2z^1x^3z^1x^2z^0x^1z^2x^2z^0x^3z^0x^2z^1x^3z^0'], ['z^0x^0z^0CZx^2CZz^3x^1z^1CZx^2CZz^0x^2z^2CZx^2CZz^3x^3z^1CZx^2CZz^0x^2z^0x^2z^1x^1z^1x^2z^2x^0z^0x^2z^1x^3z^1x^2z^0x^1z^2x^2z^0x^3z^0x^2z^1x^1z^0'], ['z^0x^0z^0CZx^2CZz^3x^1z^1CZx^2CZz^0x^2z^2CZx^2CZz^3x^3z^1CZx^2CZz^0x^2z^0x^2z^1x^1z^1x^2z^2x^0z^0x^2z^1x^3z^1x^2z^0x^1z^2x^2z^0x^3z^0x^2z^0x^2z^1'], ['z^0x^0z^0CZx^2CZz^3x^1z^1CZx^2CZz^0x^2z^2CZx^2CZz^3x^3z^1CZx^2CZz^0x^2z^0x^2z^1x^1z^1x^2z^2x^0z^0x^2z^1x^3z^1x^2z^0x^1z^2x^2z^0x^3z^0x^2z^0x^2z^2'], ['z^0x^0z^0CZx^2CZz^3x^1z^1CZx^2CZz^0x^2z^2CZx^2CZz^3x^3z^1CZx^2CZz^0x^2z^0x^2z^1x^1z^1x^2z^2x^0z^0x^2z^1x^3z^1x^2z^0x^1z^2x^2z^0x^3z^0x^2z^0x^3z^2']], [['z^0x^0z^0CZx^2CZz^3x^1z^1CZx^2CZz^0x^2z^2CZx^2CZz^3x^3z^1CZx^2CZz^0x^2z^0CZx^2CZz^1x^1z^1x^2z^2x^0z^0x^2z^1x^3z^1x^2z^0x^1z^2x^2z^0x^3z^0x^2z^3x^1z^1'], ['z^0x^0z^0CZx^2CZz^3x^1z^1CZx^2CZz^0x^2z^2CZx^2CZz^3x^3z^1CZx^2CZz^0x^2z^0CZx^2CZz^1x^1z^1x^2z^2x^0z^0x^2z^1x^3z^1x^2z^0x^1z^2x^2z^0x^3z^0x^2z^3x^1z^0'], ['z^0x^0z^0CZx^2CZz^3x^1z^1CZx^2CZz^0x^2z^2CZx^2CZz^3x^3z^1CZx^2CZz^0x^2z^0CZx^2CZz^1x^1z^1x^2z^2x^0z^0x^2z^1x^3z^1x^2z^0x^1z^2x^2z^0x^3z^0x^2z^0x^1z^1'], ['z^0x^0z^0CZx^2CZz^3x^1z^1CZx^2CZz^0x^2z^2CZx^2CZz^3x^3z^1CZx^2CZz^0x^2z^0CZx^2CZz^1x^1z^1x^2z^2x^0z^0x^2z^1x^3z^1x^2z^0x^1z^2x^2z^0x^3z^0x^2z^3x^3z^0'], ['z^0x^0z^0CZx^2CZz^3x^1z^1CZx^2CZz^0x^2z^2CZx^2CZz^3x^3z^1CZx^2CZz^0x^2z^0CZx^2CZz^1x^1z^1x^2z^2x^0z^0x^2z^1x^3z^1x^2z^0x^1z^2x^2z^0x^3z^0x^2z^0x^1z^0'], ['z^0x^0z^0CZx^2CZz^3x^1z^1CZx^2CZz^0x^2z^2CZx^2CZz^3x^3z^1CZx^2CZz^0x^2z^0CZx^2CZz^1x^1z^1x^2z^2x^0z^0x^2z^1x^3z^1x^2z^0x^1z^2x^2z^0x^3z^0x^2z^1x^0z^0'], ['z^0x^0z^0CZx^2CZz^3x^1z^1CZx^2CZz^0x^2z^2CZx^2CZz^3x^3z^1CZx^2CZz^0x^2z^0CZx^2CZz^1x^1z^1x^2z^2x^0z^0x^2z^1x^3z^1x^2z^0x^1z^2x^2z^0x^3z^0x^2z^0x^3z^3'], ['z^0x^0z^0CZx^2CZz^3x^1z^1CZx^2CZz^0x^2z^2CZx^2CZz^3x^3z^1CZx^2CZz^0x^2z^0CZx^2CZz^1x^1z^1x^2z^2x^0z^0x^2z^1x^3z^1x^2z^0x^1z^2x^2z^0x^3z^0x^2z^3x^0z^0'], ['z^0x^0z^0CZx^2CZz^3x^1z^1CZx^2CZz^0x^2z^2CZx^2CZz^3x^3z^1CZx^2CZz^0x^2z^0CZx^2CZz^1x^1z^1x^2z^2x^0z^0x^2z^1x^3z^1x^2z^0x^1z^2x^2z^0x^3z^0x^2z^3x^0z^0'], ['z^0x^0z^0CZx^2CZz^3x^1z^1CZx^2CZz^0x^2z^2CZx^2CZz^3x^3z^1CZx^2CZz^0x^2z^0CZx^2CZz^1x^1z^1x^2z^2x^0z^0x^2z^1x^3z^1x^2z^0x^1z^2x^2z^0x^3z^0x^2z^1x^3z^1']]]\n",
      "[[[4, 12, 23, 18, 5, 0, 3, 22, 9, 6, 16], [10, 15, 3, 7, 0, 18, 5, 9, 6, 16, 7], [2, 8, 16, 20, 17, 13, 1, 20, 7, 8, 17], [7, 5, 17, 11, 21, 6, 17, 19, 6, 15, 11], [21, 3, 5, 11, 23, 16, 18, 1, 2, 3, 17], [23, 11, 19, 6, 12, 2, 18, 3, 4, 19, 22], [13, 6, 11, 16, 3, 15, 12, 19, 6, 19, 10], [0, 21, 23, 15, 7, 8, 0, 8, 20, 10, 11], [19, 15, 16, 8, 10, 8, 9, 11, 20, 4, 11], [11, 6, 10, 7, 4, 9, 13, 3, 0, 2, 22]], [[21, 10, 15, 0, 14, 20, 18, 5, 10, 21, 7], [7, 10, 12, 22, 15, 23, 3, 20, 16, 8, 19], [11, 5, 9, 12, 20, 19, 15, 11, 12, 14, 13], [13, 2, 1, 7, 19, 14, 16, 10, 0, 22, 8], [5, 15, 20, 2, 5, 1, 23, 0, 2, 15, 1], [1, 7, 11, 21, 0, 1, 3, 4, 12, 11, 0], [22, 8, 1, 20, 7, 0, 18, 8, 4, 10, 17], [18, 15, 8, 19, 15, 13, 1, 1, 20, 1, 16], [13, 13, 14, 4, 1, 18, 1, 5, 6, 4, 21], [18, 21, 1, 5, 3, 22, 14, 7, 12, 0, 7]], [[13, 10, 23, 16, 9, 15, 4, 15, 3, 7, 22], [22, 8, 16, 19, 22, 9, 13, 2, 22, 3, 9], [22, 15, 1, 4, 14, 7, 15, 8, 10, 20, 8], [2, 11, 15, 20, 16, 14, 18, 8, 4, 10, 19], [8, 18, 11, 6, 16, 15, 7, 19, 19, 23, 12], [3, 15, 12, 5, 21, 20, 16, 20, 4, 8, 1], [17, 3, 13, 17, 14, 5, 7, 4, 13, 23, 17], [10, 8, 14, 0, 19, 21, 19, 7, 2, 8, 14], [12, 12, 17, 12, 17, 13, 15, 23, 0, 11, 18], [3, 14, 8, 12, 7, 10, 13, 15, 16, 2, 3]], [[6, 14, 18, 22, 22, 19, 11, 11, 18, 18, 18], [23, 18, 9, 4, 9, 23, 12, 1, 19, 5, 18], [4, 8, 7, 23, 17, 7, 13, 20, 4, 15, 14], [16, 20, 12, 16, 7, 16, 1, 16, 15, 14, 17], [15, 17, 6, 0, 19, 2, 12, 15, 3, 4, 22], [14, 14, 21, 21, 7, 12, 20, 2, 13, 16, 17], [1, 15, 17, 3, 12, 6, 6, 12, 4, 17, 11], [8, 4, 2, 15, 9, 8, 16, 22, 9, 13, 19], [20, 23, 21, 19, 7, 2, 23, 1, 7, 4, 18], [20, 17, 13, 9, 20, 5, 3, 19, 17, 8, 19]], [[16, 16, 6, 14, 21, 1, 21, 14, 6, 18, 0], [1, 9, 12, 2, 20, 14, 14, 19, 10, 5, 7], [13, 2, 8, 17, 21, 10, 4, 4, 19, 20, 21], [20, 11, 19, 5, 5, 9, 16, 15, 9, 7, 15], [14, 10, 10, 16, 7, 14, 17, 21, 3, 13, 19], [18, 8, 14, 17, 15, 6, 13, 6, 22, 0, 10], [10, 20, 0, 10, 0, 17, 7, 20, 22, 4, 15], [23, 7, 9, 22, 12, 15, 11, 10, 3, 6, 22], [18, 20, 7, 11, 13, 13, 10, 18, 2, 3, 2], [9, 9, 3, 16, 19, 2, 7, 21, 11, 1, 12]], [[20, 22, 2, 23, 17, 6, 15, 15, 10, 2, 1], [9, 21, 22, 11, 1, 2, 23, 9, 4, 9, 13], [11, 22, 14, 21, 13, 19, 13, 22, 14, 10, 23], [5, 7, 0, 2, 1, 12, 19, 9, 1, 14, 11], [5, 3, 19, 13, 14, 17, 5, 2, 0, 15, 14], [6, 1, 5, 7, 23, 18, 12, 3, 22, 2, 21], [5, 19, 4, 19, 6, 7, 18, 8, 14, 8, 16], [11, 16, 2, 23, 20, 8, 19, 16, 8, 13, 19], [2, 22, 22, 19, 16, 23, 0, 21, 2, 1, 19], [11, 8, 18, 5, 14, 5, 7, 14, 23, 10, 7]]]\n"
     ]
    }
   ],
   "source": [
    "print(gatelistnames)\n",
    "gatelistnames[3][2][0]\n",
    "print(gatelists)"
   ]
  },
  {
   "cell_type": "markdown",
   "id": "64f20813",
   "metadata": {},
   "source": [
    "### Generate master scripts"
   ]
  },
  {
   "cell_type": "code",
   "execution_count": null,
   "id": "9a77fe13",
   "metadata": {},
   "outputs": [],
   "source": []
  },
  {
   "cell_type": "code",
   "execution_count": 50,
   "id": "8e24b0cd",
   "metadata": {},
   "outputs": [],
   "source": [
    "script_dir = \"globalRB_scripts240323_10insUpto20\""
   ]
  },
  {
   "cell_type": "code",
   "execution_count": 51,
   "id": "9be323bb",
   "metadata": {
    "tags": []
   },
   "outputs": [],
   "source": [
    "f = open(\"./empty.mScript\", \"r\")\n",
    "flist = list(f)\n",
    "\n",
    "\n",
    "import os\n",
    "MetaX = [\"on: metaxrot\\n\",\"t += (metaxrottime)/1000\"+\"\\n\",\"off: metaxrot\\n\",\"\\n\",\"\\n\"]\n",
    "CZ =[\"off: tweezerslm\\n\",\"t += 0.5/1000\\n\",\"on: uv\\n\",\"pulseon: awgtrigger2 0.0001\\n\",\"t += awgtrigtime2/1000\\n\",\"t += (cz_t+0.5)/1000\\n\"+\"\\n\",\"on: tweezerslm\\n\",\"t += uvwaittime/1000\\n\",\"off: uv\\n\",\"\\n\"]\n",
    "CZempty =[\"off: tweezerslm\\n\",\"t += awgtrigtime2/1000\\n\",\"t += (cz_t+0.5)/1000\\n\"+\"\\n\",\"on: tweezerslm\\n\",\"t += uvwaittime/1000\\n\",\"\\n\"]\n",
    "\n",
    "\n",
    "for RepNumI, gatelistRep in enumerate(gatelists):\n",
    "    RepNum = 2*RepNumI\n",
    "    for k, gatelist in enumerate(gatelistRep):\n",
    "        name = script_dir+\"/rb_clifford_\"+str(k).zfill(2)+\"Rep\"+str(RepNum).zfill(2)\n",
    "        f0 = open(name+\".mScript\", \"w+\")\n",
    "        flist_new = [\"%\"+gatelistnames[RepNumI][k][0]+\"\\n\"]\n",
    "        for i, line in enumerate(flist):\n",
    "            if (line == \"%STARTGRB\\n\"):\n",
    "                flist_new += flist[:i+1].copy() \n",
    "                for gateNum in gatelist[:RepNum]:\n",
    "                    gate = RandomCliffords[gateNum]\n",
    "                    flist_new +=  [\"\\n\", \"t += {:.0f}*metazrottime/4/1000\\n\".format(4-gate[0]),\"\\n\"]\n",
    "                    for g in range(gate[1]):\n",
    "                        flist_new +=  MetaX\n",
    "                        flist_new +=  [\"\\n\", \"t += metazrottime/1000\\n\",\"\\n\"]\n",
    "                    flist_new +=  [\"\\n\", \"t += {:.0f}*metazrottime/4/1000\\n\".format(4-gate[2]),\"\\n\"]\n",
    "\n",
    "                    flist_new += CZ\n",
    "                    flist_new += MetaX\n",
    "                    flist_new +=  [\"\\n\", \"t += metazrottime/1000\\n\",\"\\n\"]\n",
    "                    flist_new += MetaX\n",
    "                    flist_new += CZ\n",
    "                for gateNum in gatelist[RepNum:-1]:\n",
    "                    gate = RandomCliffords[gateNum]\n",
    "                    flist_new +=  [\"\\n\", \"t += {:.0f}*metazrottime/4/1000\\n\".format(4-gate[0]),\"\\n\"]\n",
    "                    for g in range(gate[1]):\n",
    "                        flist_new +=  MetaX\n",
    "                        flist_new +=  [\"\\n\", \"t += metazrottime/1000\\n\",\"\\n\"]\n",
    "                    flist_new +=  [\"\\n\", \"t += {:.0f}*metazrottime/4/1000\\n\".format(4-gate[2]),\"\\n\"]\n",
    "\n",
    "                    flist_new += CZempty\n",
    "                    flist_new += MetaX\n",
    "                    flist_new +=  [\"\\n\", \"t += metazrottime/1000\\n\",\"\\n\"]\n",
    "                    flist_new += MetaX\n",
    "                    flist_new += CZempty\n",
    "                #final 1Q gate to bring back to initial state\n",
    "                gate = RandomCliffords[gatelist[-1]]\n",
    "                flist_new +=  [\"\\n\", \"t += {:.0f}*metazrottime/4/1000\\n\".format(4-gate[0]),\"\\n\"]\n",
    "                for g in range(gate[1]):\n",
    "                    flist_new +=  MetaX\n",
    "                    flist_new +=  [\"\\n\", \"t += metaz2pitime/1000\\n\",\"\\n\"]\n",
    "                flist_new +=  [\"\\n\", \"t += {:.0f}*metazrottime/4/1000\\n\".format(4-gate[2]),\"\\n\"]     \n",
    "\n",
    "\n",
    "                flist_new += flist[i+1:]\n",
    "                break\n",
    "        for line in flist_new:\n",
    "            f0.write(line+\"\\r\")\n",
    "        f0.close()\n",
    "\n",
    "        # os.rename(name+\".txt\", name+\".mScript\")\n",
    "\n",
    "\n",
    "f.close()\n",
    "\n"
   ]
  },
  {
   "cell_type": "code",
   "execution_count": 15,
   "id": "f0bc53c7-26e2-4961-83c2-fa1bf9a5a9d6",
   "metadata": {},
   "outputs": [],
   "source": [
    "script_dir = \"globalRB_scripts240323_10insUpto20_zerowait2\""
   ]
  },
  {
   "cell_type": "code",
   "execution_count": 53,
   "id": "5d1b19cc-719b-433f-856f-58180156447c",
   "metadata": {
    "tags": []
   },
   "outputs": [],
   "source": [
    "f = open(\"./empty.mScript\", \"r\")\n",
    "flist = list(f)\n",
    "\n",
    "\n",
    "import os\n",
    "MetaX = [\"t += 0.04/1000\\n\",\"on: metaxrot\\n\",\"t += (metaxrottime)/1000\"+\"\\n\",\"off: metaxrot\\n\",\"t += 0.04/1000\\n\",\"\\n\",\"\\n\"]\n",
    "CZ =[\"off: tweezerslm\\n\",\"t += 0.5/1000\\n\",\"on: uv\\n\",\"pulseon: awgtrigger2 0.0001\\n\",\"t += awgtrigtime2/1000\\n\",\"t += (cz_t+0.5)/1000\\n\"+\"\\n\",\"on: tweezerslm\\n\",\"t += uvwaittime/1000\\n\",\"off: uv\\n\",\"\\n\"]\n",
    "CZempty =[\"off: tweezerslm\\n\",\"t += awgtrigtime2/1000\\n\",\"t += (cz_t+0.5)/1000\\n\"+\"\\n\",\"on: tweezerslm\\n\",\"t += uvwaittime/1000\\n\",\"\\n\"]\n",
    "\n",
    "\n",
    "for RepNumI, gatelistRep in enumerate(gatelists):\n",
    "    RepNum = 2*RepNumI\n",
    "    for k, gatelist in enumerate(gatelistRep):\n",
    "        name = script_dir+\"/rb_clifford_\"+str(k).zfill(2)+\"Rep\"+str(RepNum).zfill(2)\n",
    "        f0 = open(name+\".mScript\", \"w+\")\n",
    "        flist_new = [\"%\"+gatelistnames[RepNumI][k][0]+\"\\n\"]\n",
    "        for i, line in enumerate(flist):\n",
    "            if (line == \"%STARTGRB\\n\"):\n",
    "                flist_new += flist[:i+1].copy() \n",
    "                for gateNum in gatelist[:RepNum]:\n",
    "                    gate = RandomCliffords[gateNum]\n",
    "                    flist_new +=  [\"\\n\", \"t += {:.0f}*metazrottime/4/1000\\n\".format(4-gate[0]),\"\\n\"]\n",
    "                    for g in range(gate[1]):\n",
    "                        flist_new +=  MetaX\n",
    "                    flist_new +=  [\"\\n\", \"t += {:.0f}*metazrottime/4/1000\\n\".format(4-gate[2]),\"\\n\"]\n",
    "\n",
    "                    flist_new += CZ\n",
    "                    flist_new += MetaX\n",
    "                    flist_new += MetaX\n",
    "                    flist_new += CZ\n",
    "                for gateNum in gatelist[RepNum:-1]:\n",
    "                    gate = RandomCliffords[gateNum]\n",
    "                    flist_new +=  [\"\\n\", \"t += {:.0f}*metazrottime/4/1000\\n\".format(4-gate[0]),\"\\n\"]\n",
    "                    for g in range(gate[1]):\n",
    "                        flist_new +=  MetaX\n",
    "                    flist_new +=  [\"\\n\", \"t += {:.0f}*metazrottime/4/1000\\n\".format(4-gate[2]),\"\\n\"]\n",
    "\n",
    "                    flist_new += CZempty\n",
    "                    flist_new += MetaX\n",
    "                    flist_new += MetaX\n",
    "                    flist_new += CZempty\n",
    "                #final 1Q gate to bring back to initial state\n",
    "                gate = RandomCliffords[gatelist[-1]]\n",
    "                flist_new +=  [\"\\n\", \"t += {:.0f}*metazrottime/4/1000\\n\".format(4-gate[0]),\"\\n\"]\n",
    "                for g in range(gate[1]):\n",
    "                    flist_new +=  MetaX\n",
    "                flist_new +=  [\"\\n\", \"t += {:.0f}*metazrottime/4/1000\\n\".format(4-gate[2]),\"\\n\"]     \n",
    "\n",
    "\n",
    "                flist_new += flist[i+1:]\n",
    "                break\n",
    "        for line in flist_new:\n",
    "            f0.write(line+\"\\r\")\n",
    "        f0.close()\n",
    "\n",
    "        # os.rename(name+\".txt\", name+\".mScript\")\n",
    "\n",
    "\n",
    "f.close()\n",
    "\n"
   ]
  },
  {
   "cell_type": "markdown",
   "id": "e7156fe2",
   "metadata": {},
   "source": [
    "### Cheack 0 or 1 for single atom"
   ]
  },
  {
   "cell_type": "code",
   "execution_count": 45,
   "id": "d5766b64",
   "metadata": {},
   "outputs": [
    {
     "name": "stdout",
     "output_type": "stream",
     "text": [
      "0\n",
      "2\n",
      "4\n",
      "6\n",
      "8\n",
      "10\n"
     ]
    }
   ],
   "source": [
    "Or = 2*np.pi*3\n",
    "lukinTO = {\n",
    "'Or' : Or,\n",
    "'Delm' : Delm,\n",
    "'V'  : 2*np.pi*200,\n",
    "'A' : 2*np.pi*0.1122,\n",
    "'omega'  :1.0431*Or,\n",
    "'phi0'  : -0.7318,\n",
    "'delta0'  :0*Or,\n",
    "'Gamma'  :1/44,\n",
    "'T': 1.215*2*np.pi/Or}\n",
    "Result1 = []\n",
    "Reult_detail = []\n",
    "for RepNumI in range(6):\n",
    "    RepNum = 2*RepNumI\n",
    "    print(RepNum)\n",
    "    sequences = gatelists[RepNumI]\n",
    "    \n",
    "    population = []\n",
    "    for i in range(len(sequences)):\n",
    "        GateNum = []\n",
    "        find = False\n",
    "        Unitary = qt.qeye(2)\n",
    "        for gatenum in sequences[i][:-1]:\n",
    "\n",
    "            Unitary = CliffordList[gatenum]*Unitary\n",
    "            Unitary = x**2*Unitary #pi\n",
    "            \n",
    "        gatenum = sequences[i][-1]\n",
    "        Unitary = CliffordList[gatenum]*Unitary\n",
    "        # print(Unitary)\n",
    "#         t1, state1 = ChoicesReal(sequences[i][-1],t1,state1)   \n",
    "        population.append(np.abs(Unitary[0,0]))\n",
    "    Reult_detail.append(population)\n"
   ]
  },
  {
   "cell_type": "code",
   "execution_count": 46,
   "id": "b7818381",
   "metadata": {},
   "outputs": [
    {
     "data": {
      "text/plain": [
       "array([[1, 1, 1, 1, 1, 1, 1, 1, 1, 1],\n",
       "       [0, 0, 1, 1, 0, 0, 0, 0, 1, 1],\n",
       "       [0, 0, 0, 0, 1, 0, 1, 0, 0, 1],\n",
       "       [0, 0, 0, 1, 0, 0, 1, 1, 1, 1],\n",
       "       [0, 0, 0, 1, 1, 1, 0, 1, 0, 0],\n",
       "       [1, 1, 0, 1, 1, 0, 0, 0, 0, 0]])"
      ]
     },
     "execution_count": 46,
     "metadata": {},
     "output_type": "execute_result"
    }
   ],
   "source": [
    "Result01 = (np.array(Reult_detail)+0.5).astype(int)\n",
    "Result01"
   ]
  },
  {
   "cell_type": "code",
   "execution_count": 39,
   "id": "553fb5d9",
   "metadata": {},
   "outputs": [
    {
     "data": {
      "text/plain": [
       "array([[1, 0, 0, 0, 0, 1],\n",
       "       [1, 0, 0, 0, 0, 1],\n",
       "       [1, 1, 0, 0, 0, 0],\n",
       "       [1, 1, 0, 1, 1, 1],\n",
       "       [1, 0, 1, 0, 1, 1],\n",
       "       [1, 0, 0, 0, 1, 0],\n",
       "       [1, 0, 1, 1, 0, 0],\n",
       "       [1, 0, 0, 1, 1, 0],\n",
       "       [1, 1, 0, 1, 0, 0],\n",
       "       [1, 1, 1, 1, 0, 0]])"
      ]
     },
     "execution_count": 39,
     "metadata": {},
     "output_type": "execute_result"
    }
   ],
   "source": [
    "Result01newOrder = np.transpose(np.array(Result01))\n",
    "Result01newOrder\n"
   ]
  },
  {
   "cell_type": "markdown",
   "id": "5fcbc3d2-860a-4108-b835-e114f94b06a7",
   "metadata": {},
   "source": [
    "# include dummy single qubit gates"
   ]
  },
  {
   "cell_type": "code",
   "execution_count": 47,
   "id": "7651f5bc-f2d5-48ca-83d5-59879e3bb24b",
   "metadata": {},
   "outputs": [],
   "source": [
    "totalRep = 5"
   ]
  },
  {
   "cell_type": "code",
   "execution_count": 48,
   "id": "2c3a84c9-6d25-47f2-a507-6027b6b59577",
   "metadata": {},
   "outputs": [],
   "source": [
    "x = qt.sigmax().sqrtm()\n",
    "y = qt.sigmay().sqrtm()\n",
    "z = qt.sigmaz().sqrtm()\n",
    "\n",
    "# the number n for n*pi/2 rotation Z1-X1-Z2 the order is from Saffman paper\n",
    "RandomCliffords = [[0,0,0],[3,1,1],[0,2,2],[3,3,1],[0,2,0],[1,1,1],[2,0,0],[1,3,1],[0,1,2],[0,3,0],[1,3,0],[3,3,0],[0,3,2],[3,1,0],[0,1,0],[1,1,0],[0,3,3],[0,1,3],[0,2,3],[3,0,0],[0,3,1],[1,0,0],[0,2,1],[0,1,1]]\n",
    "NumChoices = np.arange(len(RandomCliffords))\n",
    "CliffordList = []\n",
    "\n",
    "for i in range(len(RandomCliffords)):\n",
    "    pulseSeq = RandomCliffords[i]\n",
    "    CliffordList.append(z**pulseSeq[2]*x**pulseSeq[1]*z**pulseSeq[0])"
   ]
  },
  {
   "cell_type": "code",
   "execution_count": 49,
   "id": "c61c0370-f6c1-447a-9dbe-72da0532b6a5",
   "metadata": {},
   "outputs": [],
   "source": [
    "# Generate random matrices\n",
    "def GRBGate2(RepNum,totalRep=6):\n",
    "    GateNum = []\n",
    "    find = False\n",
    "    Unitary = qt.qeye(2)\n",
    "    for i in range(RepNum):\n",
    "        num = random.choice(NumChoices)\n",
    "        GateNum.append(num)\n",
    "        \n",
    "        Unitary = CliffordList[num]*Unitary\n",
    "        Unitary = z**2*x**2*Unitary #CZpiCZ\n",
    "    \n",
    "    for i in range(totalRep-RepNum):\n",
    "        num = random.choice(NumChoices)\n",
    "        GateNum.append(num)\n",
    "        \n",
    "        Unitary = CliffordList[num]*Unitary\n",
    "        Unitary = x**2*Unitary #pi pulse\n",
    "        \n",
    "    for i in range(len(CliffordList)):\n",
    "        if (CliffordList[i] == Unitary.dag()):\n",
    "            GateNum.append(i)\n",
    "            find = True\n",
    "            break\n",
    "        elif (CliffordList[i] == -Unitary.dag()):\n",
    "            GateNum.append(i)\n",
    "            find = True\n",
    "            break\n",
    "        elif (CliffordList[i] == 1j*Unitary.dag()):\n",
    "            GateNum.append(i)\n",
    "            find = True\n",
    "            break\n",
    "        elif (CliffordList[i] == -1j*Unitary.dag()):\n",
    "            GateNum.append(i)\n",
    "            find = True\n",
    "            break\n",
    "    \n",
    "    if find:\n",
    "        return GateNum\n",
    "    else:\n",
    "        print('error no unitary found')\n",
    "        print(Unitary)\n"
   ]
  },
  {
   "cell_type": "markdown",
   "id": "237e26ad-f2b2-480a-aae2-2488108bbd93",
   "metadata": {},
   "source": [
    "## Generation of GRB sequence with 10 instances upto 20CZ"
   ]
  },
  {
   "cell_type": "code",
   "execution_count": 50,
   "id": "0a057e7f-2a80-4a97-a155-7b3fc6b27515",
   "metadata": {},
   "outputs": [
    {
     "data": {
      "text/plain": [
       "array([0, 1, 2, 3, 4, 5])"
      ]
     },
     "execution_count": 50,
     "metadata": {},
     "output_type": "execute_result"
    }
   ],
   "source": [
    "np.arange(0,6,1)"
   ]
  },
  {
   "cell_type": "code",
   "execution_count": 51,
   "id": "6100e84b-a01c-4458-8e37-5c6060e3dcbc",
   "metadata": {},
   "outputs": [],
   "source": [
    "gatelists = []\n",
    "for RepNum in range(0,6,1):\n",
    "    sequences = []\n",
    "    for i in range(10):\n",
    "        sequences.append(GRBGate2(RepNum,totalRep))\n",
    "    gatelists.append(sequences)"
   ]
  },
  {
   "cell_type": "code",
   "execution_count": 52,
   "id": "28f03470-dbbf-407e-860e-6f8eeee0a10f",
   "metadata": {},
   "outputs": [
    {
     "data": {
      "text/plain": [
       "[[[11, 22, 6, 22, 19, 7],\n",
       "  [23, 12, 2, 6, 1, 4],\n",
       "  [8, 19, 2, 1, 7, 10],\n",
       "  [4, 10, 6, 18, 21, 16],\n",
       "  [5, 21, 20, 2, 9, 14],\n",
       "  [3, 8, 14, 13, 15, 14],\n",
       "  [5, 2, 17, 0, 6, 8],\n",
       "  [2, 17, 11, 13, 1, 12],\n",
       "  [3, 20, 4, 1, 5, 9],\n",
       "  [13, 20, 20, 13, 6, 6]],\n",
       " [[5, 3, 5, 13, 19, 2],\n",
       "  [23, 6, 18, 1, 20, 4],\n",
       "  [2, 3, 8, 17, 21, 1],\n",
       "  [6, 16, 0, 23, 18, 1],\n",
       "  [22, 7, 23, 16, 3, 1],\n",
       "  [8, 7, 4, 0, 15, 15],\n",
       "  [14, 3, 9, 18, 11, 20],\n",
       "  [1, 23, 5, 17, 20, 15],\n",
       "  [10, 15, 21, 10, 1, 2],\n",
       "  [18, 23, 21, 6, 22, 1]],\n",
       " [[19, 10, 5, 8, 1, 11],\n",
       "  [3, 15, 22, 1, 5, 0],\n",
       "  [9, 11, 6, 1, 14, 8],\n",
       "  [18, 9, 20, 13, 15, 13],\n",
       "  [16, 6, 17, 11, 16, 16],\n",
       "  [13, 4, 13, 0, 23, 16],\n",
       "  [18, 2, 12, 15, 22, 8],\n",
       "  [23, 15, 23, 16, 15, 10],\n",
       "  [1, 3, 23, 14, 19, 17],\n",
       "  [3, 22, 23, 15, 4, 16]],\n",
       " [[1, 13, 9, 8, 7, 13],\n",
       "  [11, 23, 11, 20, 17, 11],\n",
       "  [9, 5, 8, 10, 7, 20],\n",
       "  [6, 12, 1, 3, 6, 9],\n",
       "  [20, 8, 13, 6, 14, 20],\n",
       "  [15, 7, 6, 23, 12, 23],\n",
       "  [1, 5, 20, 3, 0, 21],\n",
       "  [16, 1, 5, 3, 22, 2],\n",
       "  [17, 2, 3, 17, 9, 15],\n",
       "  [17, 19, 2, 10, 15, 22]],\n",
       " [[16, 14, 17, 13, 12, 13],\n",
       "  [18, 5, 2, 18, 2, 12],\n",
       "  [19, 1, 0, 12, 21, 23],\n",
       "  [15, 20, 6, 22, 19, 2],\n",
       "  [10, 14, 9, 22, 0, 5],\n",
       "  [14, 22, 17, 0, 21, 5],\n",
       "  [18, 1, 18, 11, 20, 8],\n",
       "  [2, 8, 21, 10, 5, 3],\n",
       "  [7, 10, 4, 20, 20, 9],\n",
       "  [19, 6, 9, 18, 17, 8]],\n",
       " [[23, 18, 6, 22, 12, 5],\n",
       "  [19, 14, 20, 15, 9, 18],\n",
       "  [16, 6, 0, 5, 12, 17],\n",
       "  [5, 13, 5, 7, 8, 17],\n",
       "  [7, 5, 11, 11, 5, 18],\n",
       "  [10, 1, 17, 6, 0, 18],\n",
       "  [13, 20, 19, 23, 7, 4],\n",
       "  [21, 12, 9, 11, 12, 6],\n",
       "  [4, 15, 20, 19, 22, 0],\n",
       "  [5, 1, 1, 3, 16, 15]]]"
      ]
     },
     "execution_count": 52,
     "metadata": {},
     "output_type": "execute_result"
    }
   ],
   "source": [
    "gatelists"
   ]
  },
  {
   "cell_type": "markdown",
   "id": "87c4be58-a387-43c0-867b-2bd8093036ad",
   "metadata": {},
   "source": [
    "### Hard code gate lists intentionally so that not easily be deleted info"
   ]
  },
  {
   "cell_type": "code",
   "execution_count": 53,
   "id": "4bf29941-d83b-4eb7-8cb3-c22e342ec1b6",
   "metadata": {},
   "outputs": [],
   "source": [
    "gatelists =[[[3, 8, 23, 23, 8, 9],\n",
    "  [16, 6, 3, 15, 11, 3],\n",
    "  [23, 2, 9, 1, 3, 3],\n",
    "  [12, 18, 9, 4, 1, 2],\n",
    "  [23, 19, 12, 15, 6, 23],\n",
    "  [4, 23, 16, 8, 21, 6],\n",
    "  [6, 3, 16, 13, 11, 18],\n",
    "  [14, 3, 15, 23, 7, 12],\n",
    "  [1, 16, 2, 21, 5, 22],\n",
    "  [8, 7, 14, 16, 22, 20]],\n",
    " [[3, 18, 12, 9, 20, 4],\n",
    "  [10, 1, 13, 20, 13, 3],\n",
    "  [18, 17, 7, 23, 9, 1],\n",
    "  [1, 15, 12, 12, 22, 0],\n",
    "  [1, 17, 3, 23, 20, 15],\n",
    "  [20, 19, 22, 4, 19, 8],\n",
    "  [18, 22, 4, 10, 1, 8],\n",
    "  [18, 12, 7, 12, 20, 13],\n",
    "  [12, 2, 10, 17, 10, 5],\n",
    "  [12, 1, 9, 12, 12, 21]],\n",
    " [[9, 15, 17, 12, 0, 4],\n",
    "  [16, 13, 23, 21, 8, 2],\n",
    "  [13, 12, 18, 7, 5, 4],\n",
    "  [4, 6, 12, 15, 14, 15],\n",
    "  [11, 14, 3, 21, 9, 4],\n",
    "  [5, 23, 22, 7, 15, 9],\n",
    "  [8, 16, 22, 19, 18, 4],\n",
    "  [18, 22, 4, 4, 23, 15],\n",
    "  [18, 9, 6, 22, 2, 1],\n",
    "  [23, 2, 22, 9, 4, 0]],\n",
    " [[3, 3, 14, 11, 22, 20],\n",
    "  [16, 13, 20, 5, 7, 13],\n",
    "  [5, 7, 20, 18, 22, 10],\n",
    "  [20, 16, 14, 9, 16, 2],\n",
    "  [21, 8, 16, 20, 21, 9],\n",
    "  [13, 17, 19, 0, 1, 15],\n",
    "  [2, 23, 22, 12, 15, 20],\n",
    "  [21, 0, 9, 19, 18, 17],\n",
    "  [16, 23, 19, 22, 7, 9],\n",
    "  [21, 17, 11, 12, 7, 14]],\n",
    " [[14, 5, 18, 23, 21, 13],\n",
    "  [14, 19, 14, 17, 12, 0],\n",
    "  [7, 17, 14, 20, 17, 23],\n",
    "  [16, 22, 0, 0, 20, 18],\n",
    "  [15, 3, 22, 13, 20, 10],\n",
    "  [11, 13, 9, 23, 22, 11],\n",
    "  [14, 20, 7, 16, 6, 17],\n",
    "  [15, 2, 13, 6, 8, 1],\n",
    "  [3, 13, 20, 14, 17, 16],\n",
    "  [16, 14, 11, 9, 19, 7]],\n",
    " [[15, 5, 20, 8, 11, 10],\n",
    "  [17, 6, 20, 11, 18, 14],\n",
    "  [20, 20, 16, 1, 10, 18],\n",
    "  [21, 0, 2, 23, 9, 15],\n",
    "  [14, 1, 18, 20, 5, 23],\n",
    "  [5, 7, 6, 4, 9, 8],\n",
    "  [10, 12, 10, 10, 23, 14],\n",
    "  [18, 4, 18, 11, 4, 20],\n",
    "  [4, 15, 3, 12, 0, 6],\n",
    "  [10, 11, 4, 19, 18, 10]]]\n"
   ]
  },
  {
   "cell_type": "code",
   "execution_count": null,
   "id": "2d57bb3f-0fd2-4fd9-860a-a63795030689",
   "metadata": {},
   "outputs": [],
   "source": [
    "gatelists =[[[3, 8, 23, 23, 8, 9],\n",
    "  [16, 6, 3, 15, 11, 3],\n",
    "  [23, 2, 9, 1, 3, 3],\n",
    "  [12, 18, 9, 4, 1, 2],\n",
    "  [23, 19, 12, 15, 6, 23],\n",
    "  [4, 23, 16, 8, 21, 6],\n",
    "  [6, 3, 16, 13, 11, 18],\n",
    "  [14, 3, 15, 23, 7, 12],\n",
    "  [1, 16, 2, 21, 5, 22],\n",
    "  [8, 7, 14, 16, 22, 20]],\n",
    " [[3, 18, 12, 9, 20, 4],\n",
    "  [10, 1, 13, 20, 13, 3],\n",
    "  [18, 17, 7, 23, 9, 1],\n",
    "  [1, 15, 12, 12, 22, 0],\n",
    "  [1, 17, 3, 23, 20, 15],\n",
    "  [20, 19, 22, 4, 19, 8],\n",
    "  [18, 22, 4, 10, 1, 8],\n",
    "  [18, 12, 7, 12, 20, 13],\n",
    "  [12, 2, 10, 17, 10, 5],\n",
    "  [12, 1, 9, 12, 12, 21]],\n",
    " [[9, 15, 17, 12, 0, 4],\n",
    "  [16, 13, 23, 21, 8, 2],\n",
    "  [13, 12, 18, 7, 5, 4],\n",
    "  [4, 6, 12, 15, 14, 15],\n",
    "  [11, 14, 3, 21, 9, 4],\n",
    "  [5, 23, 22, 7, 15, 9],\n",
    "  [8, 16, 22, 19, 18, 4],\n",
    "  [18, 22, 4, 4, 23, 15],\n",
    "  [18, 9, 6, 22, 2, 1],\n",
    "  [23, 2, 22, 9, 4, 0]],\n",
    " [[3, 3, 14, 11, 22, 20],\n",
    "  [16, 13, 20, 5, 7, 13],\n",
    "  [5, 7, 20, 18, 22, 10],\n",
    "  [20, 16, 14, 9, 16, 2],\n",
    "  [21, 8, 16, 20, 21, 9],\n",
    "  [13, 17, 19, 0, 1, 15],\n",
    "  [2, 23, 22, 12, 15, 20],\n",
    "  [21, 0, 9, 19, 18, 17],\n",
    "  [16, 23, 19, 22, 7, 9],\n",
    "  [21, 17, 11, 12, 7, 14]],\n",
    " [[14, 5, 18, 23, 21, 13],\n",
    "  [14, 19, 14, 17, 12, 0],\n",
    "  [7, 17, 14, 20, 17, 23],\n",
    "  [16, 22, 0, 0, 20, 18],\n",
    "  [15, 3, 22, 13, 20, 10],\n",
    "  [11, 13, 9, 23, 22, 11],\n",
    "  [14, 20, 7, 16, 6, 17],\n",
    "  [15, 2, 13, 6, 8, 1],\n",
    "  [3, 13, 20, 14, 17, 16],\n",
    "  [16, 14, 11, 9, 19, 7]],\n",
    " [[15, 5, 20, 8, 11, 10],\n",
    "  [17, 6, 20, 11, 18, 14],\n",
    "  [20, 20, 16, 1, 10, 18],\n",
    "  [21, 0, 2, 23, 9, 15],\n",
    "  [14, 1, 18, 20, 5, 23],\n",
    "  [5, 7, 6, 4, 9, 8],\n",
    "  [10, 12, 10, 10, 23, 14],\n",
    "  [18, 4, 18, 11, 4, 20],\n",
    "  [4, 15, 3, 12, 0, 6],\n",
    "  [10, 11, 4, 19, 18, 10]]]"
   ]
  },
  {
   "cell_type": "markdown",
   "id": "8177798a-76de-47fa-af7c-ca9a516bc337",
   "metadata": {},
   "source": [
    "### generate gate list"
   ]
  },
  {
   "cell_type": "code",
   "execution_count": 54,
   "id": "7e12e0c2-4657-479f-8c64-f00cb89571b6",
   "metadata": {},
   "outputs": [],
   "source": [
    "gatelistnames = []\n",
    "for RepNum, gatelistRep in enumerate(gatelists):\n",
    "    gatelist_rep = []\n",
    "    for gatelist in gatelistRep:\n",
    "        gatelist_ind = []\n",
    "        gatelist_new = []\n",
    "        for gateNum in range(RepNum):\n",
    "                gate = RandomCliffords[gateNum]\n",
    "                gatelist_new.append('z^{:.0f}'.format(gate[0])) \n",
    "                gatelist_new.append('x^{:.0f}'.format(gate[1])) \n",
    "                gatelist_new.append('z^{:.0f}'.format(gate[2])) \n",
    "\n",
    "                gatelist_new.append('CZ')\n",
    "                gatelist_new.append('x^2')\n",
    "                gatelist_new.append('CZ')\n",
    "        for gateNum in range(RepNum,totalRep):\n",
    "                gate = RandomCliffords[gateNum]\n",
    "                gatelist_new.append('z^{:.0f}'.format(gate[0])) \n",
    "                gatelist_new.append('x^{:.0f}'.format(gate[1])) \n",
    "                gatelist_new.append('z^{:.0f}'.format(gate[2])) \n",
    "\n",
    "                gatelist_new.append('x^2')\n",
    "        #final 1Q gate to bring back to initial state\n",
    "        gate = RandomCliffords[gatelist[-1]]\n",
    "        gatelist_new.append('z^{:.0f}'.format(gate[0])) \n",
    "        gatelist_new.append('x^{:.0f}'.format(gate[1])) \n",
    "        gatelist_new.append('z^{:.0f}'.format(gate[2])) \n",
    "        gatelist_ind.append(\"\".join(gatelist_new))\n",
    "        gatelist_rep.append(gatelist_ind)\n",
    "    gatelistnames.append(gatelist_rep)\n",
    "    "
   ]
  },
  {
   "cell_type": "code",
   "execution_count": 55,
   "id": "08dfbf1b-d07d-4c6b-91e2-c97bacd2fd41",
   "metadata": {},
   "outputs": [
    {
     "name": "stdout",
     "output_type": "stream",
     "text": [
      "[[['z^0x^0z^0x^2z^3x^1z^1x^2z^0x^2z^2x^2z^3x^3z^1x^2z^0x^2z^0x^2z^0x^3z^0'], ['z^0x^0z^0x^2z^3x^1z^1x^2z^0x^2z^2x^2z^3x^3z^1x^2z^0x^2z^0x^2z^3x^3z^1'], ['z^0x^0z^0x^2z^3x^1z^1x^2z^0x^2z^2x^2z^3x^3z^1x^2z^0x^2z^0x^2z^3x^3z^1'], ['z^0x^0z^0x^2z^3x^1z^1x^2z^0x^2z^2x^2z^3x^3z^1x^2z^0x^2z^0x^2z^0x^2z^2'], ['z^0x^0z^0x^2z^3x^1z^1x^2z^0x^2z^2x^2z^3x^3z^1x^2z^0x^2z^0x^2z^0x^1z^1'], ['z^0x^0z^0x^2z^3x^1z^1x^2z^0x^2z^2x^2z^3x^3z^1x^2z^0x^2z^0x^2z^2x^0z^0'], ['z^0x^0z^0x^2z^3x^1z^1x^2z^0x^2z^2x^2z^3x^3z^1x^2z^0x^2z^0x^2z^0x^2z^3'], ['z^0x^0z^0x^2z^3x^1z^1x^2z^0x^2z^2x^2z^3x^3z^1x^2z^0x^2z^0x^2z^0x^3z^2'], ['z^0x^0z^0x^2z^3x^1z^1x^2z^0x^2z^2x^2z^3x^3z^1x^2z^0x^2z^0x^2z^0x^2z^1'], ['z^0x^0z^0x^2z^3x^1z^1x^2z^0x^2z^2x^2z^3x^3z^1x^2z^0x^2z^0x^2z^0x^3z^1']], [['z^0x^0z^0CZx^2CZz^3x^1z^1x^2z^0x^2z^2x^2z^3x^3z^1x^2z^0x^2z^0x^2z^0x^2z^0'], ['z^0x^0z^0CZx^2CZz^3x^1z^1x^2z^0x^2z^2x^2z^3x^3z^1x^2z^0x^2z^0x^2z^3x^3z^1'], ['z^0x^0z^0CZx^2CZz^3x^1z^1x^2z^0x^2z^2x^2z^3x^3z^1x^2z^0x^2z^0x^2z^3x^1z^1'], ['z^0x^0z^0CZx^2CZz^3x^1z^1x^2z^0x^2z^2x^2z^3x^3z^1x^2z^0x^2z^0x^2z^0x^0z^0'], ['z^0x^0z^0CZx^2CZz^3x^1z^1x^2z^0x^2z^2x^2z^3x^3z^1x^2z^0x^2z^0x^2z^1x^1z^0'], ['z^0x^0z^0CZx^2CZz^3x^1z^1x^2z^0x^2z^2x^2z^3x^3z^1x^2z^0x^2z^0x^2z^0x^1z^2'], ['z^0x^0z^0CZx^2CZz^3x^1z^1x^2z^0x^2z^2x^2z^3x^3z^1x^2z^0x^2z^0x^2z^0x^1z^2'], ['z^0x^0z^0CZx^2CZz^3x^1z^1x^2z^0x^2z^2x^2z^3x^3z^1x^2z^0x^2z^0x^2z^3x^1z^0'], ['z^0x^0z^0CZx^2CZz^3x^1z^1x^2z^0x^2z^2x^2z^3x^3z^1x^2z^0x^2z^0x^2z^1x^1z^1'], ['z^0x^0z^0CZx^2CZz^3x^1z^1x^2z^0x^2z^2x^2z^3x^3z^1x^2z^0x^2z^0x^2z^1x^0z^0']], [['z^0x^0z^0CZx^2CZz^3x^1z^1CZx^2CZz^0x^2z^2x^2z^3x^3z^1x^2z^0x^2z^0x^2z^0x^2z^0'], ['z^0x^0z^0CZx^2CZz^3x^1z^1CZx^2CZz^0x^2z^2x^2z^3x^3z^1x^2z^0x^2z^0x^2z^0x^2z^2'], ['z^0x^0z^0CZx^2CZz^3x^1z^1CZx^2CZz^0x^2z^2x^2z^3x^3z^1x^2z^0x^2z^0x^2z^0x^2z^0'], ['z^0x^0z^0CZx^2CZz^3x^1z^1CZx^2CZz^0x^2z^2x^2z^3x^3z^1x^2z^0x^2z^0x^2z^1x^1z^0'], ['z^0x^0z^0CZx^2CZz^3x^1z^1CZx^2CZz^0x^2z^2x^2z^3x^3z^1x^2z^0x^2z^0x^2z^0x^2z^0'], ['z^0x^0z^0CZx^2CZz^3x^1z^1CZx^2CZz^0x^2z^2x^2z^3x^3z^1x^2z^0x^2z^0x^2z^0x^3z^0'], ['z^0x^0z^0CZx^2CZz^3x^1z^1CZx^2CZz^0x^2z^2x^2z^3x^3z^1x^2z^0x^2z^0x^2z^0x^2z^0'], ['z^0x^0z^0CZx^2CZz^3x^1z^1CZx^2CZz^0x^2z^2x^2z^3x^3z^1x^2z^0x^2z^0x^2z^1x^1z^0'], ['z^0x^0z^0CZx^2CZz^3x^1z^1CZx^2CZz^0x^2z^2x^2z^3x^3z^1x^2z^0x^2z^0x^2z^3x^1z^1'], ['z^0x^0z^0CZx^2CZz^3x^1z^1CZx^2CZz^0x^2z^2x^2z^3x^3z^1x^2z^0x^2z^0x^2z^0x^0z^0']], [['z^0x^0z^0CZx^2CZz^3x^1z^1CZx^2CZz^0x^2z^2CZx^2CZz^3x^3z^1x^2z^0x^2z^0x^2z^0x^3z^1'], ['z^0x^0z^0CZx^2CZz^3x^1z^1CZx^2CZz^0x^2z^2CZx^2CZz^3x^3z^1x^2z^0x^2z^0x^2z^3x^1z^0'], ['z^0x^0z^0CZx^2CZz^3x^1z^1CZx^2CZz^0x^2z^2CZx^2CZz^3x^3z^1x^2z^0x^2z^0x^2z^1x^3z^0'], ['z^0x^0z^0CZx^2CZz^3x^1z^1CZx^2CZz^0x^2z^2CZx^2CZz^3x^3z^1x^2z^0x^2z^0x^2z^0x^2z^2'], ['z^0x^0z^0CZx^2CZz^3x^1z^1CZx^2CZz^0x^2z^2CZx^2CZz^3x^3z^1x^2z^0x^2z^0x^2z^0x^3z^0'], ['z^0x^0z^0CZx^2CZz^3x^1z^1CZx^2CZz^0x^2z^2CZx^2CZz^3x^3z^1x^2z^0x^2z^0x^2z^1x^1z^0'], ['z^0x^0z^0CZx^2CZz^3x^1z^1CZx^2CZz^0x^2z^2CZx^2CZz^3x^3z^1x^2z^0x^2z^0x^2z^0x^3z^1'], ['z^0x^0z^0CZx^2CZz^3x^1z^1CZx^2CZz^0x^2z^2CZx^2CZz^3x^3z^1x^2z^0x^2z^0x^2z^0x^1z^3'], ['z^0x^0z^0CZx^2CZz^3x^1z^1CZx^2CZz^0x^2z^2CZx^2CZz^3x^3z^1x^2z^0x^2z^0x^2z^0x^3z^0'], ['z^0x^0z^0CZx^2CZz^3x^1z^1CZx^2CZz^0x^2z^2CZx^2CZz^3x^3z^1x^2z^0x^2z^0x^2z^0x^1z^0']], [['z^0x^0z^0CZx^2CZz^3x^1z^1CZx^2CZz^0x^2z^2CZx^2CZz^3x^3z^1CZx^2CZz^0x^2z^0x^2z^3x^1z^0'], ['z^0x^0z^0CZx^2CZz^3x^1z^1CZx^2CZz^0x^2z^2CZx^2CZz^3x^3z^1CZx^2CZz^0x^2z^0x^2z^0x^0z^0'], ['z^0x^0z^0CZx^2CZz^3x^1z^1CZx^2CZz^0x^2z^2CZx^2CZz^3x^3z^1CZx^2CZz^0x^2z^0x^2z^0x^1z^1'], ['z^0x^0z^0CZx^2CZz^3x^1z^1CZx^2CZz^0x^2z^2CZx^2CZz^3x^3z^1CZx^2CZz^0x^2z^0x^2z^0x^2z^3'], ['z^0x^0z^0CZx^2CZz^3x^1z^1CZx^2CZz^0x^2z^2CZx^2CZz^3x^3z^1CZx^2CZz^0x^2z^0x^2z^1x^3z^0'], ['z^0x^0z^0CZx^2CZz^3x^1z^1CZx^2CZz^0x^2z^2CZx^2CZz^3x^3z^1CZx^2CZz^0x^2z^0x^2z^3x^3z^0'], ['z^0x^0z^0CZx^2CZz^3x^1z^1CZx^2CZz^0x^2z^2CZx^2CZz^3x^3z^1CZx^2CZz^0x^2z^0x^2z^0x^1z^3'], ['z^0x^0z^0CZx^2CZz^3x^1z^1CZx^2CZz^0x^2z^2CZx^2CZz^3x^3z^1CZx^2CZz^0x^2z^0x^2z^3x^1z^1'], ['z^0x^0z^0CZx^2CZz^3x^1z^1CZx^2CZz^0x^2z^2CZx^2CZz^3x^3z^1CZx^2CZz^0x^2z^0x^2z^0x^3z^3'], ['z^0x^0z^0CZx^2CZz^3x^1z^1CZx^2CZz^0x^2z^2CZx^2CZz^3x^3z^1CZx^2CZz^0x^2z^0x^2z^1x^3z^1']], [['z^0x^0z^0CZx^2CZz^3x^1z^1CZx^2CZz^0x^2z^2CZx^2CZz^3x^3z^1CZx^2CZz^0x^2z^0CZx^2CZz^1x^3z^0'], ['z^0x^0z^0CZx^2CZz^3x^1z^1CZx^2CZz^0x^2z^2CZx^2CZz^3x^3z^1CZx^2CZz^0x^2z^0CZx^2CZz^0x^1z^0'], ['z^0x^0z^0CZx^2CZz^3x^1z^1CZx^2CZz^0x^2z^2CZx^2CZz^3x^3z^1CZx^2CZz^0x^2z^0CZx^2CZz^0x^2z^3'], ['z^0x^0z^0CZx^2CZz^3x^1z^1CZx^2CZz^0x^2z^2CZx^2CZz^3x^3z^1CZx^2CZz^0x^2z^0CZx^2CZz^1x^1z^0'], ['z^0x^0z^0CZx^2CZz^3x^1z^1CZx^2CZz^0x^2z^2CZx^2CZz^3x^3z^1CZx^2CZz^0x^2z^0CZx^2CZz^0x^1z^1'], ['z^0x^0z^0CZx^2CZz^3x^1z^1CZx^2CZz^0x^2z^2CZx^2CZz^3x^3z^1CZx^2CZz^0x^2z^0CZx^2CZz^0x^1z^2'], ['z^0x^0z^0CZx^2CZz^3x^1z^1CZx^2CZz^0x^2z^2CZx^2CZz^3x^3z^1CZx^2CZz^0x^2z^0CZx^2CZz^0x^1z^0'], ['z^0x^0z^0CZx^2CZz^3x^1z^1CZx^2CZz^0x^2z^2CZx^2CZz^3x^3z^1CZx^2CZz^0x^2z^0CZx^2CZz^0x^3z^1'], ['z^0x^0z^0CZx^2CZz^3x^1z^1CZx^2CZz^0x^2z^2CZx^2CZz^3x^3z^1CZx^2CZz^0x^2z^0CZx^2CZz^2x^0z^0'], ['z^0x^0z^0CZx^2CZz^3x^1z^1CZx^2CZz^0x^2z^2CZx^2CZz^3x^3z^1CZx^2CZz^0x^2z^0CZx^2CZz^1x^3z^0']]]\n",
      "[[[3, 8, 23, 23, 8, 9], [16, 6, 3, 15, 11, 3], [23, 2, 9, 1, 3, 3], [12, 18, 9, 4, 1, 2], [23, 19, 12, 15, 6, 23], [4, 23, 16, 8, 21, 6], [6, 3, 16, 13, 11, 18], [14, 3, 15, 23, 7, 12], [1, 16, 2, 21, 5, 22], [8, 7, 14, 16, 22, 20]], [[3, 18, 12, 9, 20, 4], [10, 1, 13, 20, 13, 3], [18, 17, 7, 23, 9, 1], [1, 15, 12, 12, 22, 0], [1, 17, 3, 23, 20, 15], [20, 19, 22, 4, 19, 8], [18, 22, 4, 10, 1, 8], [18, 12, 7, 12, 20, 13], [12, 2, 10, 17, 10, 5], [12, 1, 9, 12, 12, 21]], [[9, 15, 17, 12, 0, 4], [16, 13, 23, 21, 8, 2], [13, 12, 18, 7, 5, 4], [4, 6, 12, 15, 14, 15], [11, 14, 3, 21, 9, 4], [5, 23, 22, 7, 15, 9], [8, 16, 22, 19, 18, 4], [18, 22, 4, 4, 23, 15], [18, 9, 6, 22, 2, 1], [23, 2, 22, 9, 4, 0]], [[3, 3, 14, 11, 22, 20], [16, 13, 20, 5, 7, 13], [5, 7, 20, 18, 22, 10], [20, 16, 14, 9, 16, 2], [21, 8, 16, 20, 21, 9], [13, 17, 19, 0, 1, 15], [2, 23, 22, 12, 15, 20], [21, 0, 9, 19, 18, 17], [16, 23, 19, 22, 7, 9], [21, 17, 11, 12, 7, 14]], [[14, 5, 18, 23, 21, 13], [14, 19, 14, 17, 12, 0], [7, 17, 14, 20, 17, 23], [16, 22, 0, 0, 20, 18], [15, 3, 22, 13, 20, 10], [11, 13, 9, 23, 22, 11], [14, 20, 7, 16, 6, 17], [15, 2, 13, 6, 8, 1], [3, 13, 20, 14, 17, 16], [16, 14, 11, 9, 19, 7]], [[15, 5, 20, 8, 11, 10], [17, 6, 20, 11, 18, 14], [20, 20, 16, 1, 10, 18], [21, 0, 2, 23, 9, 15], [14, 1, 18, 20, 5, 23], [5, 7, 6, 4, 9, 8], [10, 12, 10, 10, 23, 14], [18, 4, 18, 11, 4, 20], [4, 15, 3, 12, 0, 6], [10, 11, 4, 19, 18, 10]]]\n"
     ]
    }
   ],
   "source": [
    "print(gatelistnames)\n",
    "gatelistnames[3][2][0]\n",
    "print(gatelists)"
   ]
  },
  {
   "cell_type": "markdown",
   "id": "d8eb06d4-d851-425c-b669-4cae684893b9",
   "metadata": {},
   "source": [
    "### Generate master scripts"
   ]
  },
  {
   "cell_type": "code",
   "execution_count": null,
   "id": "a38638e8-bc85-4dcf-a7f7-ded1d09184f6",
   "metadata": {},
   "outputs": [],
   "source": []
  },
  {
   "cell_type": "code",
   "execution_count": 66,
   "id": "e8cf1ee0-4d0e-4f4c-be7f-a8cddc2c95f6",
   "metadata": {},
   "outputs": [],
   "source": [
    "script_dir = \"globalRB_scripts240318_10insUpto10\""
   ]
  },
  {
   "cell_type": "code",
   "execution_count": 67,
   "id": "ce30073d-d5d0-4ed5-82df-53f8f602f8c3",
   "metadata": {
    "tags": []
   },
   "outputs": [],
   "source": [
    "f = open(\"./empty.mScript\", \"r\")\n",
    "flist = list(f)\n",
    "\n",
    "\n",
    "import os\n",
    "MetaX = [\"pulseon: awgtrigger 0.0001\\n\",\"t += (metaxrottime)/1000\"+\"\\n\",\"\\n\",\"\\n\"]\n",
    "CZ =[\"off: tweezerslm\\n\",\"t += 0.5/1000\\n\",\"on: uv\\n\",\"pulseon: awgtrigger2 0.0001\\n\",\"t += awgtrigtime2/1000\\n\",\"t += (cz_t+0.5)/1000\\n\"+\"\\n\",\"on: tweezerslm\\n\",\"t += uvwaittime/1000\\n\",\"off: uv\\n\",\"\\n\"]\n",
    "CZempty =[\"off: tweezerslm\\n\",\"t += awgtrigtime2/1000\\n\",\"t += (cz_t+0.5)/1000\\n\"+\"\\n\",\"on: tweezerslm\\n\",\"t += uvwaittime/1000\\n\",\"\\n\"]\n",
    "\n",
    "\n",
    "for RepNumI, gatelistRep in enumerate(gatelists):\n",
    "    RepNum = 2*RepNumI\n",
    "    for k, gatelist in enumerate(gatelistRep):\n",
    "        name = script_dir+\"/rb_clifford_\"+str(k).zfill(2)+\"Rep\"+str(RepNum).zfill(2)\n",
    "        f0 = open(name+\".mScript\", \"w+\")\n",
    "        flist_new = [\"%\"+gatelistnames[RepNumI][k][0]+\"\\n\"]\n",
    "        for i, line in enumerate(flist):\n",
    "            if (line == \"%STARTGRB\\n\"):\n",
    "                flist_new += flist[:i+1].copy() \n",
    "                for gateNum in gatelist[:RepNum]:\n",
    "                    gate = RandomCliffords[gateNum]\n",
    "                    flist_new +=  [\"\\n\", \"t += {:.0f}*metaz2pitime/4/1000\\n\".format(4-gate[0]),\"\\n\"]\n",
    "                    for g in range(gate[1]):\n",
    "                        flist_new +=  MetaX\n",
    "                        flist_new +=  [\"\\n\", \"t += metaz2pitime/1000\\n\",\"\\n\"]\n",
    "                    flist_new +=  [\"\\n\", \"t += {:.0f}*metaz2pitime/4/1000\\n\".format(4-gate[2]),\"\\n\"]\n",
    "\n",
    "                    flist_new += CZ\n",
    "                    flist_new += MetaX\n",
    "                    flist_new +=  [\"\\n\", \"t += metaz2pitime/1000\\n\",\"\\n\"]\n",
    "                    flist_new += MetaX\n",
    "                    flist_new += CZ\n",
    "                for gateNum in gatelist[RepNum:-1]:\n",
    "                    gate = RandomCliffords[gateNum]\n",
    "                    flist_new +=  [\"\\n\", \"t += {:.0f}*metaz2pitime/4/1000\\n\".format(4-gate[0]),\"\\n\"]\n",
    "                    for g in range(gate[1]):\n",
    "                        flist_new +=  MetaX\n",
    "                        flist_new +=  [\"\\n\", \"t += metaz2pitime/1000\\n\",\"\\n\"]\n",
    "                    flist_new +=  [\"\\n\", \"t += {:.0f}*metaz2pitime/4/1000\\n\".format(4-gate[2]),\"\\n\"]\n",
    "\n",
    "                    flist_new += CZempty\n",
    "                    flist_new += MetaX\n",
    "                    flist_new +=  [\"\\n\", \"t += metaz2pitime/1000\\n\",\"\\n\"]\n",
    "                    flist_new += MetaX\n",
    "                    flist_new += CZempty\n",
    "                #final 1Q gate to bring back to initial state\n",
    "                gate = RandomCliffords[gatelist[-1]]\n",
    "                flist_new +=  [\"\\n\", \"t += {:.0f}*metaz2pitime/4/1000\\n\".format(4-gate[0]),\"\\n\"]\n",
    "                for g in range(gate[1]):\n",
    "                    flist_new +=  MetaX\n",
    "                    flist_new +=  [\"\\n\", \"t += metaz2pitime/1000\\n\",\"\\n\"]\n",
    "                flist_new +=  [\"\\n\", \"t += {:.0f}*metaz2pitime/4/1000\\n\".format(4-gate[2]),\"\\n\"]     \n",
    "\n",
    "\n",
    "                flist_new += flist[i+1:]\n",
    "                break\n",
    "        for line in flist_new:\n",
    "            f0.write(line+\"\\r\")\n",
    "        f0.close()\n",
    "\n",
    "        # os.rename(name+\".txt\", name+\".mScript\")\n",
    "\n",
    "\n",
    "f.close()\n",
    "\n"
   ]
  },
  {
   "cell_type": "code",
   "execution_count": 64,
   "id": "423cc096-e68a-401b-b0fd-558938e4a261",
   "metadata": {},
   "outputs": [],
   "source": [
    "script_dir = \"globalRB_scripts240318_10insUpto10_zerowait2\""
   ]
  },
  {
   "cell_type": "code",
   "execution_count": 65,
   "id": "356d5ee9-9b49-4d3d-b950-37cd17066345",
   "metadata": {
    "tags": []
   },
   "outputs": [],
   "source": [
    "f = open(\"./empty.mScript\", \"r\")\n",
    "flist = list(f)\n",
    "\n",
    "\n",
    "import os\n",
    "MetaX = [\"pulseon: awgtrigger 0.0001\\n\",\"t += (metaxrottime)/1000\"+\"\\n\",\"\\n\",\"\\n\"]\n",
    "CZ =[\"off: tweezerslm\\n\",\"t += 0.5/1000\\n\",\"on: uv\\n\",\"pulseon: awgtrigger2 0.0001\\n\",\"t += awgtrigtime2/1000\\n\",\"t += (cz_t+0.5)/1000\\n\"+\"\\n\",\"on: tweezerslm\\n\",\"t += uvwaittime/1000\\n\",\"off: uv\\n\",\"\\n\"]\n",
    "CZempty =[\"off: tweezerslm\\n\",\"t += awgtrigtime2/1000\\n\",\"t += (cz_t+0.5)/1000\\n\"+\"\\n\",\"on: tweezerslm\\n\",\"t += uvwaittime/1000\\n\",\"\\n\"]\n",
    "\n",
    "\n",
    "for RepNumI, gatelistRep in enumerate(gatelists):\n",
    "    RepNum = 2*RepNumI\n",
    "    for k, gatelist in enumerate(gatelistRep):\n",
    "        name = script_dir+\"/rb_clifford_\"+str(k).zfill(2)+\"Rep\"+str(RepNum).zfill(2)\n",
    "        f0 = open(name+\".mScript\", \"w+\")\n",
    "        flist_new = [\"%\"+gatelistnames[RepNumI][k][0]+\"\\n\"]\n",
    "        for i, line in enumerate(flist):\n",
    "            if (line == \"%STARTGRB\\n\"):\n",
    "                flist_new += flist[:i+1].copy() \n",
    "                for gateNum in gatelist[:RepNum]:\n",
    "                    gate = RandomCliffords[gateNum]\n",
    "                    flist_new +=  [\"\\n\", \"t += {:.0f}*metaz2pitime/4/1000\\n\".format(4-gate[0]),\"\\n\"]\n",
    "                    for g in range(gate[1]):\n",
    "                        flist_new +=  MetaX\n",
    "                        flist_new +=  [\"\\n\", \"t += 0.5/1000\\n\",\"\\n\"]\n",
    "                    flist_new +=  [\"\\n\", \"t += {:.0f}*metaz2pitime/4/1000\\n\".format(4-gate[2]),\"\\n\"]\n",
    "\n",
    "                    flist_new += CZ\n",
    "                    flist_new += MetaX\n",
    "                    flist_new +=  [\"\\n\", \"t += 0.08/1000\\n\",\"\\n\"]\n",
    "                    flist_new += MetaX\n",
    "                    flist_new += CZ\n",
    "                for gateNum in gatelist[RepNum:-1]:\n",
    "                    gate = RandomCliffords[gateNum]\n",
    "                    flist_new +=  [\"\\n\", \"t += {:.0f}*metaz2pitime/4/1000\\n\".format(4-gate[0]),\"\\n\"]\n",
    "                    for g in range(gate[1]):\n",
    "                        flist_new +=  MetaX\n",
    "                        flist_new +=  [\"\\n\", \"t += 0.08/1000\\n\",\"\\n\"]\n",
    "                    flist_new +=  [\"\\n\", \"t += {:.0f}*metaz2pitime/4/1000\\n\".format(4-gate[2]),\"\\n\"]\n",
    "\n",
    "                    flist_new += CZempty\n",
    "                    flist_new += MetaX\n",
    "                    flist_new +=  [\"\\n\", \"t += 0.08/1000\\n\",\"\\n\"]\n",
    "                    flist_new += MetaX\n",
    "                    flist_new += CZempty\n",
    "                #final 1Q gate to bring back to initial state\n",
    "                gate = RandomCliffords[gatelist[-1]]\n",
    "                flist_new +=  [\"\\n\", \"t += {:.0f}*metaz2pitime/4/1000\\n\".format(4-gate[0]),\"\\n\"]\n",
    "                for g in range(gate[1]):\n",
    "                    flist_new +=  MetaX\n",
    "                    flist_new +=  [\"\\n\", \"t += 0.08/1000\\n\",\"\\n\"]\n",
    "                flist_new +=  [\"\\n\", \"t += {:.0f}*metaz2pitime/4/1000\\n\".format(4-gate[2]),\"\\n\"]     \n",
    "\n",
    "\n",
    "                flist_new += flist[i+1:]\n",
    "                break\n",
    "        for line in flist_new:\n",
    "            f0.write(line+\"\\r\")\n",
    "        f0.close()\n",
    "\n",
    "        # os.rename(name+\".txt\", name+\".mScript\")\n",
    "\n",
    "\n",
    "f.close()\n",
    "\n"
   ]
  },
  {
   "cell_type": "markdown",
   "id": "27db4a92-bca7-4df6-9e2c-d213059877b9",
   "metadata": {},
   "source": [
    "### Cheack 0 or 1 for single atom"
   ]
  },
  {
   "cell_type": "code",
   "execution_count": 58,
   "id": "5e877a77-23f5-4125-aa2c-6074f3272df0",
   "metadata": {},
   "outputs": [
    {
     "name": "stdout",
     "output_type": "stream",
     "text": [
      "0\n",
      "2\n",
      "4\n",
      "6\n",
      "8\n",
      "10\n"
     ]
    }
   ],
   "source": [
    "Or = 2*np.pi*3\n",
    "lukinTO = {\n",
    "'Or' : Or,\n",
    "'Delm' : Delm,\n",
    "'V'  : 2*np.pi*200,\n",
    "'A' : 2*np.pi*0.1122,\n",
    "'omega'  :1.0431*Or,\n",
    "'phi0'  : -0.7318,\n",
    "'delta0'  :0*Or,\n",
    "'Gamma'  :1/44,\n",
    "'T': 1.215*2*np.pi/Or}\n",
    "Result1 = []\n",
    "Reult_detail = []\n",
    "for RepNumI in range(6):\n",
    "    RepNum = 2*RepNumI\n",
    "    print(RepNum)\n",
    "    sequences = gatelists[RepNumI]\n",
    "    \n",
    "    population = []\n",
    "    for i in range(len(sequences)):\n",
    "        GateNum = []\n",
    "        find = False\n",
    "        Unitary = qt.qeye(2)\n",
    "        for gatenum in sequences[i][:-1]:\n",
    "\n",
    "            Unitary = CliffordList[gatenum]*Unitary\n",
    "            Unitary = x**2*Unitary #pi\n",
    "            \n",
    "        gatenum = sequences[i][-1]\n",
    "        Unitary = CliffordList[gatenum]*Unitary\n",
    "        # print(Unitary)\n",
    "#         t1, state1 = ChoicesReal(sequences[i][-1],t1,state1)   \n",
    "        population.append(np.abs(Unitary[0,0]))\n",
    "    Reult_detail.append(population)\n"
   ]
  },
  {
   "cell_type": "code",
   "execution_count": 59,
   "id": "00f08d1f-4a80-4e8b-b805-53552ac7e6c0",
   "metadata": {},
   "outputs": [
    {
     "data": {
      "text/plain": [
       "array([[1, 1, 1, 1, 1, 1, 1, 1, 1, 1],\n",
       "       [0, 0, 1, 0, 0, 0, 1, 1, 0, 0],\n",
       "       [1, 0, 0, 1, 0, 1, 0, 1, 0, 1],\n",
       "       [1, 1, 1, 1, 0, 0, 1, 0, 0, 0],\n",
       "       [1, 1, 0, 1, 0, 1, 0, 1, 0, 0],\n",
       "       [1, 0, 0, 1, 0, 1, 1, 1, 1, 0]])"
      ]
     },
     "execution_count": 59,
     "metadata": {},
     "output_type": "execute_result"
    }
   ],
   "source": [
    "Result01 = (np.array(Reult_detail)+0.5).astype(int)\n",
    "Result01"
   ]
  },
  {
   "cell_type": "code",
   "execution_count": 60,
   "id": "90c36387-77f9-4106-831d-c3e23c372faf",
   "metadata": {},
   "outputs": [
    {
     "data": {
      "text/plain": [
       "array([[1, 0, 1, 1, 1, 1],\n",
       "       [1, 0, 0, 1, 1, 0],\n",
       "       [1, 1, 0, 1, 0, 0],\n",
       "       [1, 0, 1, 1, 1, 1],\n",
       "       [1, 0, 0, 0, 0, 0],\n",
       "       [1, 0, 1, 0, 1, 1],\n",
       "       [1, 1, 0, 1, 0, 1],\n",
       "       [1, 1, 1, 0, 1, 1],\n",
       "       [1, 0, 0, 0, 0, 1],\n",
       "       [1, 0, 1, 0, 0, 0]])"
      ]
     },
     "execution_count": 60,
     "metadata": {},
     "output_type": "execute_result"
    }
   ],
   "source": [
    "Result01newOrder = np.transpose(np.array(Result01))\n",
    "Result01newOrder\n"
   ]
  },
  {
   "cell_type": "markdown",
   "id": "b104ac93",
   "metadata": {},
   "source": [
    "### Generate master scripts for 1Q"
   ]
  },
  {
   "cell_type": "code",
   "execution_count": null,
   "id": "f3585d72",
   "metadata": {},
   "outputs": [],
   "source": []
  },
  {
   "cell_type": "code",
   "execution_count": 41,
   "id": "4e1fc21e",
   "metadata": {},
   "outputs": [],
   "source": [
    "script_dir = \"globalRB_scripts231207_1Q\""
   ]
  },
  {
   "cell_type": "code",
   "execution_count": 42,
   "id": "20a21451",
   "metadata": {},
   "outputs": [
    {
     "ename": "FileNotFoundError",
     "evalue": "[Errno 2] No such file or directory: 'globalRB_scripts231207_1Q/rb_clifford_00Rep0.mScript'",
     "output_type": "error",
     "traceback": [
      "\u001b[1;31m---------------------------------------------------------------------------\u001b[0m",
      "\u001b[1;31mFileNotFoundError\u001b[0m                         Traceback (most recent call last)",
      "\u001b[1;32m~\\AppData\\Local\\Temp\\ipykernel_10736\\3550148387.py\u001b[0m in \u001b[0;36m<module>\u001b[1;34m\u001b[0m\n\u001b[0;32m     10\u001b[0m \u001b[1;32mfor\u001b[0m \u001b[0mRepNum\u001b[0m\u001b[1;33m,\u001b[0m \u001b[0mgatelistRep\u001b[0m \u001b[1;32min\u001b[0m \u001b[0menumerate\u001b[0m\u001b[1;33m(\u001b[0m\u001b[0mgatelists\u001b[0m\u001b[1;33m)\u001b[0m\u001b[1;33m:\u001b[0m\u001b[1;33m\u001b[0m\u001b[1;33m\u001b[0m\u001b[0m\n\u001b[0;32m     11\u001b[0m     \u001b[1;32mfor\u001b[0m \u001b[0mk\u001b[0m\u001b[1;33m,\u001b[0m \u001b[0mgatelist\u001b[0m \u001b[1;32min\u001b[0m \u001b[0menumerate\u001b[0m\u001b[1;33m(\u001b[0m\u001b[0mgatelistRep\u001b[0m\u001b[1;33m)\u001b[0m\u001b[1;33m:\u001b[0m\u001b[1;33m\u001b[0m\u001b[1;33m\u001b[0m\u001b[0m\n\u001b[1;32m---> 12\u001b[1;33m         \u001b[0mf0\u001b[0m \u001b[1;33m=\u001b[0m \u001b[0mopen\u001b[0m\u001b[1;33m(\u001b[0m\u001b[0mscript_dir\u001b[0m\u001b[1;33m+\u001b[0m\u001b[1;34m\"/rb_clifford_\"\u001b[0m\u001b[1;33m+\u001b[0m\u001b[0mstr\u001b[0m\u001b[1;33m(\u001b[0m\u001b[0mk\u001b[0m\u001b[1;33m)\u001b[0m\u001b[1;33m.\u001b[0m\u001b[0mzfill\u001b[0m\u001b[1;33m(\u001b[0m\u001b[1;36m2\u001b[0m\u001b[1;33m)\u001b[0m\u001b[1;33m+\u001b[0m\u001b[1;34m\"Rep\"\u001b[0m\u001b[1;33m+\u001b[0m\u001b[0mstr\u001b[0m\u001b[1;33m(\u001b[0m\u001b[0mRepNum\u001b[0m\u001b[1;33m)\u001b[0m\u001b[1;33m+\u001b[0m\u001b[1;34m\".mScript\"\u001b[0m\u001b[1;33m,\u001b[0m \u001b[1;34m\"w+\"\u001b[0m\u001b[1;33m)\u001b[0m\u001b[1;33m\u001b[0m\u001b[1;33m\u001b[0m\u001b[0m\n\u001b[0m\u001b[0;32m     13\u001b[0m         \u001b[0mflist_new\u001b[0m \u001b[1;33m=\u001b[0m \u001b[1;33m[\u001b[0m\u001b[1;34m\"%\"\u001b[0m\u001b[1;33m+\u001b[0m\u001b[0mgatelistnames\u001b[0m\u001b[1;33m[\u001b[0m\u001b[0mRepNum\u001b[0m\u001b[1;33m]\u001b[0m\u001b[1;33m[\u001b[0m\u001b[0mk\u001b[0m\u001b[1;33m]\u001b[0m\u001b[1;33m[\u001b[0m\u001b[1;36m0\u001b[0m\u001b[1;33m]\u001b[0m\u001b[1;33m+\u001b[0m\u001b[1;34m\"\\n\"\u001b[0m\u001b[1;33m]\u001b[0m\u001b[1;33m\u001b[0m\u001b[1;33m\u001b[0m\u001b[0m\n\u001b[0;32m     14\u001b[0m         \u001b[1;32mfor\u001b[0m \u001b[0mi\u001b[0m\u001b[1;33m,\u001b[0m \u001b[0mline\u001b[0m \u001b[1;32min\u001b[0m \u001b[0menumerate\u001b[0m\u001b[1;33m(\u001b[0m\u001b[0mflist\u001b[0m\u001b[1;33m)\u001b[0m\u001b[1;33m:\u001b[0m\u001b[1;33m\u001b[0m\u001b[1;33m\u001b[0m\u001b[0m\n",
      "\u001b[1;31mFileNotFoundError\u001b[0m: [Errno 2] No such file or directory: 'globalRB_scripts231207_1Q/rb_clifford_00Rep0.mScript'"
     ]
    }
   ],
   "source": [
    "f = open(\"./uv_enhancedloading_fnc_explicit.mScript\", \"r\")\n",
    "flist = list(f)\n",
    "\n",
    "\n",
    "\n",
    "MetaX = [\"on: metaxrot\\n\",\"pulseon: awgtrigger 0.0001\\n\",\"t += (metaxrottime+0.5)/1000\"+\"\\n\",\"off: metaxrot\\n\",\"\\n\",\"\\n\"]\n",
    "CZ =[\"on: uv\\n\",\"pulseon: awgtrigger2 0.0001\\n\",\"t += awgtrigtime2/1000\\n\",\"off: tweezerslm\\n\",\"t += (cz_t+0.5)/1000\\n\"+\"\\n\",\"on: tweezerslm\\n\",\"off: uv\\n\",\"\\n\"]\n",
    "\n",
    "\n",
    "for RepNum, gatelistRep in enumerate(gatelists):\n",
    "    for k, gatelist in enumerate(gatelistRep):\n",
    "        f0 = open(script_dir+\"/rb_clifford_\"+str(k).zfill(2)+\"Rep\"+str(RepNum)+\".mScript\", \"w+\")\n",
    "        flist_new = [\"%\"+gatelistnames[RepNum][k][0]+\"\\n\"]\n",
    "        for i, line in enumerate(flist):\n",
    "            if (line == \"%STARTGRB\\n\"):\n",
    "                flist_new += flist[:i+1].copy() \n",
    "                for gateNum in gatelist[:RepNum]:\n",
    "                    gate = RandomCliffords[gateNum]\n",
    "                    flist_new +=  [\"\\n\", \"t += {:.0f}*1/Delm/4/1000\\n\".format(4-gate[0]),\"\\n\"]\n",
    "                    for g in range(gate[1]):\n",
    "                        flist_new +=  MetaX\n",
    "                    flist_new +=  [\"\\n\", \"t += {:.0f}*1/Delm/4/1000\\n\".format(4-gate[2]),\"\\n\"]\n",
    "\n",
    "                    flist_new +=  [\"\\n\", \"t += 2*1/Delm/4/1000\\n\",\"\\n\"]\n",
    "                    flist_new += MetaX\n",
    "                    flist_new += MetaX\n",
    "                for gateNum in gatelist[RepNum:totalRep]:\n",
    "                    gate = RandomCliffords[gateNum]\n",
    "                    flist_new +=  [\"\\n\", \"t += {:.0f}*1/Delm/4/1000\\n\".format(4-gate[0]),\"\\n\"]\n",
    "                    for g in range(gate[1]):\n",
    "                        flist_new +=  MetaX\n",
    "                    flist_new +=  [\"\\n\", \"t += {:.0f}*1/Delm/4/1000\\n\".format(4-gate[2]),\"\\n\"]\n",
    "\n",
    "                    flist_new += MetaX\n",
    "                    flist_new += MetaX\n",
    "\n",
    "                #final 1Q gate to bring back to initial state\n",
    "                gate = RandomCliffords[gatelist[-1]]\n",
    "                flist_new +=  [\"\\n\", \"t += {:.0f}*1/Delm/4/1000\\n\".format(4-gate[0]),\"\\n\"]\n",
    "                for g in range(gate[1]):\n",
    "                    flist_new +=  MetaX\n",
    "                flist_new +=  [\"\\n\", \"t += {:.0f}*1/Delm/4/1000\\n\".format(4-gate[2]),\"\\n\"]     \n",
    "\n",
    "\n",
    "                flist_new += flist[i+1:]\n",
    "                break\n",
    "        for line in flist_new:\n",
    "            f0.write(line)\n",
    "        f0.close()\n",
    "f.close()\n",
    "\n"
   ]
  },
  {
   "cell_type": "code",
   "execution_count": null,
   "id": "d2b1df63",
   "metadata": {},
   "outputs": [],
   "source": []
  }
 ],
 "metadata": {
  "kernelspec": {
   "display_name": "Python 3 (ipykernel)",
   "language": "python",
   "name": "python3"
  },
  "language_info": {
   "codemirror_mode": {
    "name": "ipython",
    "version": 3
   },
   "file_extension": ".py",
   "mimetype": "text/x-python",
   "name": "python",
   "nbconvert_exporter": "python",
   "pygments_lexer": "ipython3",
   "version": "3.9.13"
  }
 },
 "nbformat": 4,
 "nbformat_minor": 5
}
